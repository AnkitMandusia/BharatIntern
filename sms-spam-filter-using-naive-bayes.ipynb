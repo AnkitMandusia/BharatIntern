{
 "cells": [
  {
   "cell_type": "markdown",
   "metadata": {
    "colab_type": "text",
    "id": "j-32dvai-Xch"
   },
   "source": [
    "<h2> Building a spam filter for sms using Multinomial Naive Bayes Algorithm : \n"
   ]
  },
  {
   "cell_type": "markdown",
   "metadata": {
    "colab_type": "text",
    "id": "qWE-tD7K-hh1"
   },
   "source": [
    "In this notebook we will be creating a spam filter for SMS. We will be using Multinomial Naibe Bayes algorithm which relies on the principals of the Bayes Theorem.\n",
    "\n",
    "Creating a filter is based on three key concepts : \n",
    "\n",
    "1.  Human classification of spam and non spam messages. \n",
    "2.  The computer then uses that human knowledge to estimate probabilities for new messages i.e. P(spam | new message) and P(non spam | new message).\n",
    "3.  Based on the probability calculations, classifies it as spam or non spam. In simple words, if the probability of P(spam | new message) is higher than message is marked as spam and vice versa.\n",
    "\n",
    "*If the probabilities are equal, then we may need a human to classify the message.*\n",
    "\n",
    "---\n",
    "\n",
    "\n",
    "So our first task is to \"teach\" the computer how to classify messages. To do that, we'll use the multinomial Naive Bayes algorithm along with a dataset of 5,572 SMS messages that are already classified by humans.\n",
    "\n",
    "The dataset was put together by Tiago A. Almeida and José María Gómez Hidalgo, and it can be downloaded from the [The UCI Machine Learning Repository](https://archive.ics.uci.edu/ml/datasets/sms+spam+collection). You can also download the dataset directly from this [link](https://dq-content.s3.amazonaws.com/433/SMSSpamCollection).\n"
   ]
  },
  {
   "cell_type": "code",
   "execution_count": 1,
   "metadata": {},
   "outputs": [
    {
     "name": "stdout",
     "output_type": "stream",
     "text": [
      "../input/SMSSpamCollection\n"
     ]
    }
   ],
   "source": [
    "import os\n",
    "for dirname, _, filenames in os.walk('../input'):\n",
    "    for filename in filenames:\n",
    "        print(os.path.join(dirname, filename))"
   ]
  },
  {
   "cell_type": "code",
   "execution_count": 2,
   "metadata": {
    "colab": {},
    "colab_type": "code",
    "id": "e8ybE71qBGYE"
   },
   "outputs": [],
   "source": [
    "import pandas as pd\n",
    "sms_spam_collection = pd.read_csv('../input/SMSSpamCollection', sep = '\\t', header=None, names = ['Label', 'SMS'])"
   ]
  },
  {
   "cell_type": "code",
   "execution_count": 3,
   "metadata": {
    "colab": {
     "base_uri": "https://localhost:8080/",
     "height": 202
    },
    "colab_type": "code",
    "id": "2QGl0rRbEiMI",
    "outputId": "662684be-1abe-4da0-ae37-557a717002f3"
   },
   "outputs": [
    {
     "data": {
      "text/html": [
       "<div>\n",
       "<style scoped>\n",
       "    .dataframe tbody tr th:only-of-type {\n",
       "        vertical-align: middle;\n",
       "    }\n",
       "\n",
       "    .dataframe tbody tr th {\n",
       "        vertical-align: top;\n",
       "    }\n",
       "\n",
       "    .dataframe thead th {\n",
       "        text-align: right;\n",
       "    }\n",
       "</style>\n",
       "<table border=\"1\" class=\"dataframe\">\n",
       "  <thead>\n",
       "    <tr style=\"text-align: right;\">\n",
       "      <th></th>\n",
       "      <th>Label</th>\n",
       "      <th>SMS</th>\n",
       "    </tr>\n",
       "  </thead>\n",
       "  <tbody>\n",
       "    <tr>\n",
       "      <th>0</th>\n",
       "      <td>ham</td>\n",
       "      <td>Go until jurong point, crazy.. Available only ...</td>\n",
       "    </tr>\n",
       "    <tr>\n",
       "      <th>1</th>\n",
       "      <td>ham</td>\n",
       "      <td>Ok lar... Joking wif u oni...</td>\n",
       "    </tr>\n",
       "    <tr>\n",
       "      <th>2</th>\n",
       "      <td>spam</td>\n",
       "      <td>Free entry in 2 a wkly comp to win FA Cup fina...</td>\n",
       "    </tr>\n",
       "    <tr>\n",
       "      <th>3</th>\n",
       "      <td>ham</td>\n",
       "      <td>U dun say so early hor... U c already then say...</td>\n",
       "    </tr>\n",
       "    <tr>\n",
       "      <th>4</th>\n",
       "      <td>ham</td>\n",
       "      <td>Nah I don't think he goes to usf, he lives aro...</td>\n",
       "    </tr>\n",
       "  </tbody>\n",
       "</table>\n",
       "</div>"
      ],
      "text/plain": [
       "  Label                                                SMS\n",
       "0   ham  Go until jurong point, crazy.. Available only ...\n",
       "1   ham                      Ok lar... Joking wif u oni...\n",
       "2  spam  Free entry in 2 a wkly comp to win FA Cup fina...\n",
       "3   ham  U dun say so early hor... U c already then say...\n",
       "4   ham  Nah I don't think he goes to usf, he lives aro..."
      ]
     },
     "execution_count": 3,
     "metadata": {},
     "output_type": "execute_result"
    }
   ],
   "source": [
    "sms_spam_collection.head()"
   ]
  },
  {
   "cell_type": "code",
   "execution_count": 4,
   "metadata": {
    "colab": {
     "base_uri": "https://localhost:8080/",
     "height": 35
    },
    "colab_type": "code",
    "id": "FYStlmzSEuSq",
    "outputId": "ec1cf7da-f8b5-40ed-9c30-25af9dbe0886"
   },
   "outputs": [
    {
     "data": {
      "text/plain": [
       "(5572, 2)"
      ]
     },
     "execution_count": 4,
     "metadata": {},
     "output_type": "execute_result"
    }
   ],
   "source": [
    "sms_spam_collection.shape"
   ]
  },
  {
   "cell_type": "code",
   "execution_count": 5,
   "metadata": {
    "colab": {
     "base_uri": "https://localhost:8080/",
     "height": 202
    },
    "colab_type": "code",
    "id": "LQO4mjz8EwQk",
    "outputId": "31b5d9d1-f7d2-4dae-e21c-03c01777ed36"
   },
   "outputs": [
    {
     "data": {
      "text/html": [
       "<div>\n",
       "<style scoped>\n",
       "    .dataframe tbody tr th:only-of-type {\n",
       "        vertical-align: middle;\n",
       "    }\n",
       "\n",
       "    .dataframe tbody tr th {\n",
       "        vertical-align: top;\n",
       "    }\n",
       "\n",
       "    .dataframe thead th {\n",
       "        text-align: right;\n",
       "    }\n",
       "</style>\n",
       "<table border=\"1\" class=\"dataframe\">\n",
       "  <thead>\n",
       "    <tr style=\"text-align: right;\">\n",
       "      <th></th>\n",
       "      <th>Label</th>\n",
       "      <th>SMS</th>\n",
       "    </tr>\n",
       "  </thead>\n",
       "  <tbody>\n",
       "    <tr>\n",
       "      <th>5567</th>\n",
       "      <td>spam</td>\n",
       "      <td>This is the 2nd time we have tried 2 contact u...</td>\n",
       "    </tr>\n",
       "    <tr>\n",
       "      <th>5568</th>\n",
       "      <td>ham</td>\n",
       "      <td>Will ü b going to esplanade fr home?</td>\n",
       "    </tr>\n",
       "    <tr>\n",
       "      <th>5569</th>\n",
       "      <td>ham</td>\n",
       "      <td>Pity, * was in mood for that. So...any other s...</td>\n",
       "    </tr>\n",
       "    <tr>\n",
       "      <th>5570</th>\n",
       "      <td>ham</td>\n",
       "      <td>The guy did some bitching but I acted like i'd...</td>\n",
       "    </tr>\n",
       "    <tr>\n",
       "      <th>5571</th>\n",
       "      <td>ham</td>\n",
       "      <td>Rofl. Its true to its name</td>\n",
       "    </tr>\n",
       "  </tbody>\n",
       "</table>\n",
       "</div>"
      ],
      "text/plain": [
       "     Label                                                SMS\n",
       "5567  spam  This is the 2nd time we have tried 2 contact u...\n",
       "5568   ham               Will ü b going to esplanade fr home?\n",
       "5569   ham  Pity, * was in mood for that. So...any other s...\n",
       "5570   ham  The guy did some bitching but I acted like i'd...\n",
       "5571   ham                         Rofl. Its true to its name"
      ]
     },
     "execution_count": 5,
     "metadata": {},
     "output_type": "execute_result"
    }
   ],
   "source": [
    "sms_spam_collection.tail()"
   ]
  },
  {
   "cell_type": "code",
   "execution_count": 6,
   "metadata": {
    "colab": {
     "base_uri": "https://localhost:8080/",
     "height": 69
    },
    "colab_type": "code",
    "id": "0UNaw_7eEyID",
    "outputId": "d2a66b56-d370-41a8-918c-ca8bb4bb18b3"
   },
   "outputs": [
    {
     "data": {
      "text/plain": [
       "ham     0.865937\n",
       "spam    0.134063\n",
       "Name: Label, dtype: float64"
      ]
     },
     "execution_count": 6,
     "metadata": {},
     "output_type": "execute_result"
    }
   ],
   "source": [
    "sms_spam_collection['Label'].value_counts(normalize=True)"
   ]
  },
  {
   "cell_type": "markdown",
   "metadata": {
    "colab_type": "text",
    "id": "tu9HJ7jlE8Xk"
   },
   "source": [
    "**Ham here means non spam**"
   ]
  },
  {
   "cell_type": "markdown",
   "metadata": {
    "colab_type": "text",
    "id": "sAe4HDP7FTq9"
   },
   "source": [
    "Before we begin designing out software i.e our spam filter, it is important we create a test first. If we create the software first, then it is tempting to come up with a biased test just to make sure the software passes it. \n",
    "\n",
    "We can break up our dataset into two parts ; a training set and a testing set. We will use the training set (which can classify as 80% of the data) to train the computer to classify the messages. We will use the testing set to test how good the filter is at classifying new mesages. \n",
    "\n",
    "To better understand the reasoning think of it this way. The testing set we keep aside. Keep in mind that the testing set has already been classified by a human. (therefore we have a reference point). Once the filter is created, we treat the testing set as new messages and have our filter classify them. Then we can compare the filtered results by the computer against the filtered results by a human to gauge how effective our filter is. "
   ]
  },
  {
   "cell_type": "markdown",
   "metadata": {
    "colab_type": "text",
    "id": "vPMG2OXRH94A"
   },
   "source": [
    "**We are hoping to reach an 80% accuracy when it comes to classification by our filter.**\n",
    "\n",
    "Let's begin dividing the dataset into training and testing sets. First we need to randomize it. "
   ]
  },
  {
   "cell_type": "code",
   "execution_count": 7,
   "metadata": {
    "colab": {},
    "colab_type": "code",
    "id": "VcqC5VvtIiD8"
   },
   "outputs": [],
   "source": [
    "sms_data_randomized = sms_spam_collection.sample(frac=1, random_state=1)"
   ]
  },
  {
   "cell_type": "code",
   "execution_count": 8,
   "metadata": {
    "colab": {},
    "colab_type": "code",
    "id": "YJEc5xuEKDeF"
   },
   "outputs": [],
   "source": [
    "training_data_length = round(len(sms_spam_collection) * 0.80)"
   ]
  },
  {
   "cell_type": "code",
   "execution_count": 9,
   "metadata": {
    "colab": {
     "base_uri": "https://localhost:8080/",
     "height": 35
    },
    "colab_type": "code",
    "id": "U7wIHz3YKVoQ",
    "outputId": "142dd453-c9f8-43b9-b6e1-a069670480d5"
   },
   "outputs": [
    {
     "data": {
      "text/plain": [
       "4458"
      ]
     },
     "execution_count": 9,
     "metadata": {},
     "output_type": "execute_result"
    }
   ],
   "source": [
    "training_data_length"
   ]
  },
  {
   "cell_type": "code",
   "execution_count": 10,
   "metadata": {
    "colab": {},
    "colab_type": "code",
    "id": "ujKW_4PAKWk-"
   },
   "outputs": [],
   "source": [
    "training_sms_dataset = sms_data_randomized[:training_data_length]"
   ]
  },
  {
   "cell_type": "code",
   "execution_count": 11,
   "metadata": {
    "colab": {
     "base_uri": "https://localhost:8080/",
     "height": 35
    },
    "colab_type": "code",
    "id": "MjRZdrKnL2bF",
    "outputId": "1a3a44e0-273c-446e-d390-2126994e4887"
   },
   "outputs": [
    {
     "data": {
      "text/plain": [
       "(4458, 2)"
      ]
     },
     "execution_count": 11,
     "metadata": {},
     "output_type": "execute_result"
    }
   ],
   "source": [
    "training_sms_dataset.shape"
   ]
  },
  {
   "cell_type": "code",
   "execution_count": 12,
   "metadata": {
    "colab": {
     "base_uri": "https://localhost:8080/",
     "height": 202
    },
    "colab_type": "code",
    "id": "wNi7VRFFL4mM",
    "outputId": "fd9c605c-7034-401d-a062-a2ae04dd981d"
   },
   "outputs": [
    {
     "data": {
      "text/html": [
       "<div>\n",
       "<style scoped>\n",
       "    .dataframe tbody tr th:only-of-type {\n",
       "        vertical-align: middle;\n",
       "    }\n",
       "\n",
       "    .dataframe tbody tr th {\n",
       "        vertical-align: top;\n",
       "    }\n",
       "\n",
       "    .dataframe thead th {\n",
       "        text-align: right;\n",
       "    }\n",
       "</style>\n",
       "<table border=\"1\" class=\"dataframe\">\n",
       "  <thead>\n",
       "    <tr style=\"text-align: right;\">\n",
       "      <th></th>\n",
       "      <th>Label</th>\n",
       "      <th>SMS</th>\n",
       "    </tr>\n",
       "  </thead>\n",
       "  <tbody>\n",
       "    <tr>\n",
       "      <th>1078</th>\n",
       "      <td>ham</td>\n",
       "      <td>Yep, by the pretty sculpture</td>\n",
       "    </tr>\n",
       "    <tr>\n",
       "      <th>4028</th>\n",
       "      <td>ham</td>\n",
       "      <td>Yes, princess. Are you going to make me moan?</td>\n",
       "    </tr>\n",
       "    <tr>\n",
       "      <th>958</th>\n",
       "      <td>ham</td>\n",
       "      <td>Welp apparently he retired</td>\n",
       "    </tr>\n",
       "    <tr>\n",
       "      <th>4642</th>\n",
       "      <td>ham</td>\n",
       "      <td>Havent.</td>\n",
       "    </tr>\n",
       "    <tr>\n",
       "      <th>4674</th>\n",
       "      <td>ham</td>\n",
       "      <td>I forgot 2 ask ü all smth.. There's a card on ...</td>\n",
       "    </tr>\n",
       "  </tbody>\n",
       "</table>\n",
       "</div>"
      ],
      "text/plain": [
       "     Label                                                SMS\n",
       "1078   ham                       Yep, by the pretty sculpture\n",
       "4028   ham      Yes, princess. Are you going to make me moan?\n",
       "958    ham                         Welp apparently he retired\n",
       "4642   ham                                            Havent.\n",
       "4674   ham  I forgot 2 ask ü all smth.. There's a card on ..."
      ]
     },
     "execution_count": 12,
     "metadata": {},
     "output_type": "execute_result"
    }
   ],
   "source": [
    "training_sms_dataset.head()"
   ]
  },
  {
   "cell_type": "markdown",
   "metadata": {
    "colab_type": "text",
    "id": "T23JjfSYL-kY"
   },
   "source": [
    "We see a slight issue with the indexes our training dataset. Let's fix that."
   ]
  },
  {
   "cell_type": "code",
   "execution_count": 13,
   "metadata": {
    "colab": {},
    "colab_type": "code",
    "id": "h8Pq5ctWMv8K"
   },
   "outputs": [],
   "source": [
    "training_sms_dataset.reset_index(drop = True, inplace = True)"
   ]
  },
  {
   "cell_type": "code",
   "execution_count": 14,
   "metadata": {
    "colab": {
     "base_uri": "https://localhost:8080/",
     "height": 202
    },
    "colab_type": "code",
    "id": "_VVAy2DbM9Jv",
    "outputId": "b478fdc2-f25f-4c8b-a253-a13d2a12f645"
   },
   "outputs": [
    {
     "data": {
      "text/html": [
       "<div>\n",
       "<style scoped>\n",
       "    .dataframe tbody tr th:only-of-type {\n",
       "        vertical-align: middle;\n",
       "    }\n",
       "\n",
       "    .dataframe tbody tr th {\n",
       "        vertical-align: top;\n",
       "    }\n",
       "\n",
       "    .dataframe thead th {\n",
       "        text-align: right;\n",
       "    }\n",
       "</style>\n",
       "<table border=\"1\" class=\"dataframe\">\n",
       "  <thead>\n",
       "    <tr style=\"text-align: right;\">\n",
       "      <th></th>\n",
       "      <th>Label</th>\n",
       "      <th>SMS</th>\n",
       "    </tr>\n",
       "  </thead>\n",
       "  <tbody>\n",
       "    <tr>\n",
       "      <th>0</th>\n",
       "      <td>ham</td>\n",
       "      <td>Yep, by the pretty sculpture</td>\n",
       "    </tr>\n",
       "    <tr>\n",
       "      <th>1</th>\n",
       "      <td>ham</td>\n",
       "      <td>Yes, princess. Are you going to make me moan?</td>\n",
       "    </tr>\n",
       "    <tr>\n",
       "      <th>2</th>\n",
       "      <td>ham</td>\n",
       "      <td>Welp apparently he retired</td>\n",
       "    </tr>\n",
       "    <tr>\n",
       "      <th>3</th>\n",
       "      <td>ham</td>\n",
       "      <td>Havent.</td>\n",
       "    </tr>\n",
       "    <tr>\n",
       "      <th>4</th>\n",
       "      <td>ham</td>\n",
       "      <td>I forgot 2 ask ü all smth.. There's a card on ...</td>\n",
       "    </tr>\n",
       "  </tbody>\n",
       "</table>\n",
       "</div>"
      ],
      "text/plain": [
       "  Label                                                SMS\n",
       "0   ham                       Yep, by the pretty sculpture\n",
       "1   ham      Yes, princess. Are you going to make me moan?\n",
       "2   ham                         Welp apparently he retired\n",
       "3   ham                                            Havent.\n",
       "4   ham  I forgot 2 ask ü all smth.. There's a card on ..."
      ]
     },
     "execution_count": 14,
     "metadata": {},
     "output_type": "execute_result"
    }
   ],
   "source": [
    "training_sms_dataset.head()"
   ]
  },
  {
   "cell_type": "markdown",
   "metadata": {
    "colab_type": "text",
    "id": "NzSwSY8EM-ew"
   },
   "source": [
    "What we did was an inefficient way of coding. What we should rather have done was method chaining. Let's see it in example on the testing dataset. "
   ]
  },
  {
   "cell_type": "code",
   "execution_count": 15,
   "metadata": {
    "colab": {},
    "colab_type": "code",
    "id": "WLPtB-1tNoGx"
   },
   "outputs": [],
   "source": [
    "testing_sms_dataset = sms_data_randomized[training_data_length:].reset_index(drop = True)"
   ]
  },
  {
   "cell_type": "code",
   "execution_count": 16,
   "metadata": {
    "colab": {
     "base_uri": "https://localhost:8080/",
     "height": 35
    },
    "colab_type": "code",
    "id": "Q-vW0aevN5WB",
    "outputId": "7539a18b-aaa6-4c6a-a05d-a67ce2b45f75"
   },
   "outputs": [
    {
     "data": {
      "text/plain": [
       "(1114, 2)"
      ]
     },
     "execution_count": 16,
     "metadata": {},
     "output_type": "execute_result"
    }
   ],
   "source": [
    "testing_sms_dataset.shape"
   ]
  },
  {
   "cell_type": "code",
   "execution_count": 17,
   "metadata": {
    "colab": {
     "base_uri": "https://localhost:8080/",
     "height": 202
    },
    "colab_type": "code",
    "id": "-7DtvVzYN7DV",
    "outputId": "08e95904-f0a0-47da-c79a-5155f2a34ba1"
   },
   "outputs": [
    {
     "data": {
      "text/html": [
       "<div>\n",
       "<style scoped>\n",
       "    .dataframe tbody tr th:only-of-type {\n",
       "        vertical-align: middle;\n",
       "    }\n",
       "\n",
       "    .dataframe tbody tr th {\n",
       "        vertical-align: top;\n",
       "    }\n",
       "\n",
       "    .dataframe thead th {\n",
       "        text-align: right;\n",
       "    }\n",
       "</style>\n",
       "<table border=\"1\" class=\"dataframe\">\n",
       "  <thead>\n",
       "    <tr style=\"text-align: right;\">\n",
       "      <th></th>\n",
       "      <th>Label</th>\n",
       "      <th>SMS</th>\n",
       "    </tr>\n",
       "  </thead>\n",
       "  <tbody>\n",
       "    <tr>\n",
       "      <th>0</th>\n",
       "      <td>ham</td>\n",
       "      <td>Later i guess. I needa do mcat study too.</td>\n",
       "    </tr>\n",
       "    <tr>\n",
       "      <th>1</th>\n",
       "      <td>ham</td>\n",
       "      <td>But i haf enuff space got like 4 mb...</td>\n",
       "    </tr>\n",
       "    <tr>\n",
       "      <th>2</th>\n",
       "      <td>spam</td>\n",
       "      <td>Had your mobile 10 mths? Update to latest Oran...</td>\n",
       "    </tr>\n",
       "    <tr>\n",
       "      <th>3</th>\n",
       "      <td>ham</td>\n",
       "      <td>All sounds good. Fingers . Makes it difficult ...</td>\n",
       "    </tr>\n",
       "    <tr>\n",
       "      <th>4</th>\n",
       "      <td>ham</td>\n",
       "      <td>All done, all handed in. Don't know if mega sh...</td>\n",
       "    </tr>\n",
       "  </tbody>\n",
       "</table>\n",
       "</div>"
      ],
      "text/plain": [
       "  Label                                                SMS\n",
       "0   ham          Later i guess. I needa do mcat study too.\n",
       "1   ham             But i haf enuff space got like 4 mb...\n",
       "2  spam  Had your mobile 10 mths? Update to latest Oran...\n",
       "3   ham  All sounds good. Fingers . Makes it difficult ...\n",
       "4   ham  All done, all handed in. Don't know if mega sh..."
      ]
     },
     "execution_count": 17,
     "metadata": {},
     "output_type": "execute_result"
    }
   ],
   "source": [
    "testing_sms_dataset.head()"
   ]
  },
  {
   "cell_type": "markdown",
   "metadata": {
    "colab_type": "text",
    "id": "vN4BNkv6N-Oh"
   },
   "source": [
    "An important point to note here and you might have wondered, why didn't we just take 4458 random samples from the dataset using dataframe.sample() or why did we use the training length as a starting point for our testing dataset. \n",
    "\n",
    "The answer lies in one key detail. We are sampling without replacement. In simple words if an sms is in the training dataset, it cannot be in the testing dataset. Remember our presumption that we will be treating the testing dataset as entirely new messages."
   ]
  },
  {
   "cell_type": "markdown",
   "metadata": {
    "colab_type": "text",
    "id": "gZBLo6iqPJsy"
   },
   "source": [
    "Let us now check if the percentages of spam and non spam in our testing and training datasets are similar to the original dataset. "
   ]
  },
  {
   "cell_type": "code",
   "execution_count": 18,
   "metadata": {
    "colab": {
     "base_uri": "https://localhost:8080/",
     "height": 69
    },
    "colab_type": "code",
    "id": "PUVSpe_KP14z",
    "outputId": "b3207c11-7d3f-43a4-8526-1d041f4211ad"
   },
   "outputs": [
    {
     "data": {
      "text/plain": [
       "ham     0.868043\n",
       "spam    0.131957\n",
       "Name: Label, dtype: float64"
      ]
     },
     "execution_count": 18,
     "metadata": {},
     "output_type": "execute_result"
    }
   ],
   "source": [
    "testing_sms_dataset['Label'].value_counts(normalize = True)"
   ]
  },
  {
   "cell_type": "code",
   "execution_count": 19,
   "metadata": {
    "colab": {
     "base_uri": "https://localhost:8080/",
     "height": 69
    },
    "colab_type": "code",
    "id": "XwkPkGFwP71s",
    "outputId": "e3f2ec7f-4567-4bb3-cba5-7fca24a961b3"
   },
   "outputs": [
    {
     "data": {
      "text/plain": [
       "ham     0.86541\n",
       "spam    0.13459\n",
       "Name: Label, dtype: float64"
      ]
     },
     "execution_count": 19,
     "metadata": {},
     "output_type": "execute_result"
    }
   ],
   "source": [
    "training_sms_dataset['Label'].value_counts(normalize = True)"
   ]
  },
  {
   "cell_type": "markdown",
   "metadata": {
    "colab_type": "text",
    "id": "yEIMStqbQDiV"
   },
   "source": [
    "We can safely say that our datasets are representative of the population. The two variables that we have are nominal type variables. If they were ratio or ordinal type variables, we could also used other ways to calculate representation. "
   ]
  },
  {
   "cell_type": "markdown",
   "metadata": {
    "colab_type": "text",
    "id": "xA-J7e0rXL2A"
   },
   "source": [
    "Now that we have our training and testing datasets, it is time to train the computer to classify spam and non spam messages. As we stated earlier our algorithm is based on Naive Bayes. It is called Naive because it works on the assumption on conditional independence.\n",
    "\n",
    "The formula that we will be using to calculate the probabilities is :\n",
    "\n",
    "---\n",
    "\n",
    "\n",
    "\n",
    "**P(spam | w1 w2 w3...wn) = P(spam) * P(w1 | spam) * P( w2 | spam)......P(wn | spam)**\n",
    "\n",
    "**P(non spam | w1 w2 w3...wn) = P(non spam) * P(w1 | non spam) * P( w2 | non spam)......P(wn | non spam)**\n",
    "\n",
    "\n",
    "---\n",
    "To calculate P(W n | spam) or P(W n | non spam) we will be using the formula below. We will be working on the premise of additive smoothing and will be using Laplace smoothing (where alpha = 1). You can read more on additive smoothing but in a nutshell additive smoothing is used to counter 0 values for word probabilities.  \n",
    "\n",
    "\n",
    "---\n",
    "P(W n | spam) = ( N wn |spam * alpha) / (N spam) * (N vocab * alpha)\n",
    "\n",
    "- N wn =  The number of times the word occurs in the spam message \n",
    "- alpha = 1 (smoothing parameter)\n",
    "- N spam = The total number of words in the spam messages \n",
    "- N vocab = The total number of words in the vocabulary\n",
    "\n",
    "A similar formula can be built for the P( Wn | non spam). You might be wondering formulas are either not correct or going against probability rules. Despite it being correct that some probability rules are broken, we have to keep in mind the objective. The objective of the filter is to not calculate probabilities but rather use probability calculations to classify between spam and non spam. Even though we haven't used the exact bayes theorem (denominator missing), our probability calculations will still be enough to differentiate. \n",
    "\n",
    "\n",
    "\n",
    "\n",
    "\n",
    "\n",
    "\n",
    "\n",
    "\n",
    "\n"
   ]
  },
  {
   "cell_type": "markdown",
   "metadata": {
    "colab_type": "text",
    "id": "wffziUy4aQGN"
   },
   "source": [
    "Before we begin though, we need to perform a few data cleaning steps. \n",
    "- We will be changing all the cases to lowercase, so that 'secret' and 'SECRET' are not counted separately. \n",
    "- Second remove any unnecessary punctuation or question marks etc.  "
   ]
  },
  {
   "cell_type": "code",
   "execution_count": 20,
   "metadata": {
    "colab": {
     "base_uri": "https://localhost:8080/",
     "height": 121
    },
    "colab_type": "code",
    "id": "INrqn_I9fwvF",
    "outputId": "3afe0831-1eff-4225-c44a-8e277002a6ac"
   },
   "outputs": [
    {
     "data": {
      "text/plain": [
       "0                         Yep, by the pretty sculpture\n",
       "1        Yes, princess. Are you going to make me moan?\n",
       "2                           Welp apparently he retired\n",
       "3                                              Havent.\n",
       "4    I forgot 2 ask ü all smth.. There's a card on ...\n",
       "Name: SMS, dtype: object"
      ]
     },
     "execution_count": 20,
     "metadata": {},
     "output_type": "execute_result"
    }
   ],
   "source": [
    "training_sms_dataset['SMS'].head() "
   ]
  },
  {
   "cell_type": "code",
   "execution_count": 21,
   "metadata": {
    "colab": {
     "base_uri": "https://localhost:8080/",
     "height": 121
    },
    "colab_type": "code",
    "id": "cY_mYRD7jCqb",
    "outputId": "ffb02a9e-c2a8-4177-aa5e-f82c35f60854"
   },
   "outputs": [
    {
     "name": "stderr",
     "output_type": "stream",
     "text": [
      "/opt/conda/lib/python3.6/site-packages/ipykernel_launcher.py:1: SettingWithCopyWarning: \n",
      "A value is trying to be set on a copy of a slice from a DataFrame.\n",
      "Try using .loc[row_indexer,col_indexer] = value instead\n",
      "\n",
      "See the caveats in the documentation: http://pandas.pydata.org/pandas-docs/stable/user_guide/indexing.html#returning-a-view-versus-a-copy\n",
      "  \"\"\"Entry point for launching an IPython kernel.\n"
     ]
    }
   ],
   "source": [
    "training_sms_dataset['SMS'] = training_sms_dataset['SMS'].str.replace('\\W', ' ').str.lower()"
   ]
  },
  {
   "cell_type": "code",
   "execution_count": 22,
   "metadata": {
    "colab": {
     "base_uri": "https://localhost:8080/",
     "height": 202
    },
    "colab_type": "code",
    "id": "YsbNGJAgjKJC",
    "outputId": "68b1e330-1b88-4419-fbc9-de822b2db127"
   },
   "outputs": [
    {
     "data": {
      "text/html": [
       "<div>\n",
       "<style scoped>\n",
       "    .dataframe tbody tr th:only-of-type {\n",
       "        vertical-align: middle;\n",
       "    }\n",
       "\n",
       "    .dataframe tbody tr th {\n",
       "        vertical-align: top;\n",
       "    }\n",
       "\n",
       "    .dataframe thead th {\n",
       "        text-align: right;\n",
       "    }\n",
       "</style>\n",
       "<table border=\"1\" class=\"dataframe\">\n",
       "  <thead>\n",
       "    <tr style=\"text-align: right;\">\n",
       "      <th></th>\n",
       "      <th>Label</th>\n",
       "      <th>SMS</th>\n",
       "    </tr>\n",
       "  </thead>\n",
       "  <tbody>\n",
       "    <tr>\n",
       "      <th>0</th>\n",
       "      <td>ham</td>\n",
       "      <td>yep  by the pretty sculpture</td>\n",
       "    </tr>\n",
       "    <tr>\n",
       "      <th>1</th>\n",
       "      <td>ham</td>\n",
       "      <td>yes  princess  are you going to make me moan</td>\n",
       "    </tr>\n",
       "    <tr>\n",
       "      <th>2</th>\n",
       "      <td>ham</td>\n",
       "      <td>welp apparently he retired</td>\n",
       "    </tr>\n",
       "    <tr>\n",
       "      <th>3</th>\n",
       "      <td>ham</td>\n",
       "      <td>havent</td>\n",
       "    </tr>\n",
       "    <tr>\n",
       "      <th>4</th>\n",
       "      <td>ham</td>\n",
       "      <td>i forgot 2 ask ü all smth   there s a card on ...</td>\n",
       "    </tr>\n",
       "  </tbody>\n",
       "</table>\n",
       "</div>"
      ],
      "text/plain": [
       "  Label                                                SMS\n",
       "0   ham                       yep  by the pretty sculpture\n",
       "1   ham      yes  princess  are you going to make me moan \n",
       "2   ham                         welp apparently he retired\n",
       "3   ham                                            havent \n",
       "4   ham  i forgot 2 ask ü all smth   there s a card on ..."
      ]
     },
     "execution_count": 22,
     "metadata": {},
     "output_type": "execute_result"
    }
   ],
   "source": [
    "training_sms_dataset.head()"
   ]
  },
  {
   "cell_type": "markdown",
   "metadata": {
    "colab_type": "text",
    "id": "SwP1LJRfjRxs"
   },
   "source": [
    "Not particularly relevant, but SMS at index 1 needs a lot more explaining ! "
   ]
  },
  {
   "cell_type": "markdown",
   "metadata": {
    "colab_type": "text",
    "id": "QKE5ygcrj0d7"
   },
   "source": [
    "The next step is to create a vocabulary. As mentioned earlier, the vocabulary is the set of unique words in both spam and ham (non spam) messages. To understand more simply, we are trying to calculate every value that our formula (mentioned above) will need. "
   ]
  },
  {
   "cell_type": "code",
   "execution_count": 23,
   "metadata": {
    "colab": {},
    "colab_type": "code",
    "id": "-9pPR9vdm9ty"
   },
   "outputs": [],
   "source": [
    "test_training_dataset = training_sms_dataset.iloc[0:10]\n",
    "# Before we begin working with the actual dataset, it is always recommended to first test out your plan of action. \n",
    "# We have decided to build a custom function that will take in the series as input and return a set of all unique words in spam and ham messages.\n",
    "# Thus building our vocabulary."
   ]
  },
  {
   "cell_type": "code",
   "execution_count": 24,
   "metadata": {
    "colab": {
     "base_uri": "https://localhost:8080/",
     "height": 355
    },
    "colab_type": "code",
    "id": "uIsXZ44UoI2p",
    "outputId": "8caba238-0288-4b31-f37c-be078e7fcabc"
   },
   "outputs": [
    {
     "data": {
      "text/html": [
       "<div>\n",
       "<style scoped>\n",
       "    .dataframe tbody tr th:only-of-type {\n",
       "        vertical-align: middle;\n",
       "    }\n",
       "\n",
       "    .dataframe tbody tr th {\n",
       "        vertical-align: top;\n",
       "    }\n",
       "\n",
       "    .dataframe thead th {\n",
       "        text-align: right;\n",
       "    }\n",
       "</style>\n",
       "<table border=\"1\" class=\"dataframe\">\n",
       "  <thead>\n",
       "    <tr style=\"text-align: right;\">\n",
       "      <th></th>\n",
       "      <th>Label</th>\n",
       "      <th>SMS</th>\n",
       "    </tr>\n",
       "  </thead>\n",
       "  <tbody>\n",
       "    <tr>\n",
       "      <th>0</th>\n",
       "      <td>ham</td>\n",
       "      <td>yep  by the pretty sculpture</td>\n",
       "    </tr>\n",
       "    <tr>\n",
       "      <th>1</th>\n",
       "      <td>ham</td>\n",
       "      <td>yes  princess  are you going to make me moan</td>\n",
       "    </tr>\n",
       "    <tr>\n",
       "      <th>2</th>\n",
       "      <td>ham</td>\n",
       "      <td>welp apparently he retired</td>\n",
       "    </tr>\n",
       "    <tr>\n",
       "      <th>3</th>\n",
       "      <td>ham</td>\n",
       "      <td>havent</td>\n",
       "    </tr>\n",
       "    <tr>\n",
       "      <th>4</th>\n",
       "      <td>ham</td>\n",
       "      <td>i forgot 2 ask ü all smth   there s a card on ...</td>\n",
       "    </tr>\n",
       "    <tr>\n",
       "      <th>5</th>\n",
       "      <td>ham</td>\n",
       "      <td>ok i thk i got it  then u wan me 2 come now or...</td>\n",
       "    </tr>\n",
       "    <tr>\n",
       "      <th>6</th>\n",
       "      <td>ham</td>\n",
       "      <td>i want kfc its tuesday  only buy 2 meals only ...</td>\n",
       "    </tr>\n",
       "    <tr>\n",
       "      <th>7</th>\n",
       "      <td>ham</td>\n",
       "      <td>no dear i was sleeping   p</td>\n",
       "    </tr>\n",
       "    <tr>\n",
       "      <th>8</th>\n",
       "      <td>ham</td>\n",
       "      <td>ok pa  nothing problem</td>\n",
       "    </tr>\n",
       "    <tr>\n",
       "      <th>9</th>\n",
       "      <td>ham</td>\n",
       "      <td>ill be there on   lt   gt   ok</td>\n",
       "    </tr>\n",
       "  </tbody>\n",
       "</table>\n",
       "</div>"
      ],
      "text/plain": [
       "  Label                                                SMS\n",
       "0   ham                       yep  by the pretty sculpture\n",
       "1   ham      yes  princess  are you going to make me moan \n",
       "2   ham                         welp apparently he retired\n",
       "3   ham                                            havent \n",
       "4   ham  i forgot 2 ask ü all smth   there s a card on ...\n",
       "5   ham  ok i thk i got it  then u wan me 2 come now or...\n",
       "6   ham  i want kfc its tuesday  only buy 2 meals only ...\n",
       "7   ham                         no dear i was sleeping   p\n",
       "8   ham                          ok pa  nothing problem   \n",
       "9   ham                    ill be there on   lt   gt   ok "
      ]
     },
     "execution_count": 24,
     "metadata": {},
     "output_type": "execute_result"
    }
   ],
   "source": [
    "test_training_dataset"
   ]
  },
  {
   "cell_type": "code",
   "execution_count": 25,
   "metadata": {
    "colab": {},
    "colab_type": "code",
    "id": "ODs4OWPpoK8P"
   },
   "outputs": [],
   "source": [
    "def creating_vocab(series):\n",
    "  vocab = []\n",
    "  for x in series:\n",
    "    x_list = x.split()\n",
    "    for i in x_list: \n",
    "      vocab.append(i)\n",
    "  return list(set(vocab))\n",
    "\n",
    "# The reason we are converting it back to a list is so that we can use that list as column labels later on. "
   ]
  },
  {
   "cell_type": "code",
   "execution_count": 26,
   "metadata": {
    "colab": {},
    "colab_type": "code",
    "id": "kqY2GbSMoQ_q"
   },
   "outputs": [],
   "source": [
    "test_vocab = creating_vocab(test_training_dataset['SMS'].iloc[0:2])"
   ]
  },
  {
   "cell_type": "code",
   "execution_count": 27,
   "metadata": {
    "colab": {
     "base_uri": "https://localhost:8080/",
     "height": 260
    },
    "colab_type": "code",
    "id": "pJzfFjKgpDbM",
    "outputId": "7f56d39b-05e7-4b2a-d2f1-d151f4db7be6"
   },
   "outputs": [
    {
     "data": {
      "text/plain": [
       "['pretty',\n",
       " 'to',\n",
       " 'by',\n",
       " 'going',\n",
       " 'moan',\n",
       " 'yes',\n",
       " 'the',\n",
       " 'sculpture',\n",
       " 'are',\n",
       " 'make',\n",
       " 'you',\n",
       " 'me',\n",
       " 'princess',\n",
       " 'yep']"
      ]
     },
     "execution_count": 27,
     "metadata": {},
     "output_type": "execute_result"
    }
   ],
   "source": [
    "test_vocab"
   ]
  },
  {
   "cell_type": "code",
   "execution_count": 28,
   "metadata": {
    "colab": {
     "base_uri": "https://localhost:8080/",
     "height": 121
    },
    "colab_type": "code",
    "id": "ogGda8A7pEfQ",
    "outputId": "02e35a1a-f4fd-41a3-d5e7-232d4294f147"
   },
   "outputs": [
    {
     "name": "stderr",
     "output_type": "stream",
     "text": [
      "/opt/conda/lib/python3.6/site-packages/ipykernel_launcher.py:1: SettingWithCopyWarning: \n",
      "A value is trying to be set on a copy of a slice from a DataFrame.\n",
      "Try using .loc[row_indexer,col_indexer] = value instead\n",
      "\n",
      "See the caveats in the documentation: http://pandas.pydata.org/pandas-docs/stable/user_guide/indexing.html#returning-a-view-versus-a-copy\n",
      "  \"\"\"Entry point for launching an IPython kernel.\n"
     ]
    }
   ],
   "source": [
    "training_sms_dataset['SMS'] = training_sms_dataset['SMS'].str.split()\n",
    "\n",
    "vocabulary = []\n",
    "for sms in training_sms_dataset['SMS']:\n",
    "    for word in sms:\n",
    "        vocabulary.append(word)\n",
    "        \n",
    "vocabulary = list(set(vocabulary))"
   ]
  },
  {
   "cell_type": "code",
   "execution_count": 29,
   "metadata": {
    "colab": {
     "base_uri": "https://localhost:8080/",
     "height": 35
    },
    "colab_type": "code",
    "id": "LgMr4j-YrUkr",
    "outputId": "32d9bdb4-e88d-4cfc-f380-a36355889009"
   },
   "outputs": [
    {
     "data": {
      "text/plain": [
       "7783"
      ]
     },
     "execution_count": 29,
     "metadata": {},
     "output_type": "execute_result"
    }
   ],
   "source": [
    "len(vocabulary)"
   ]
  },
  {
   "cell_type": "markdown",
   "metadata": {
    "colab_type": "text",
    "id": "NbeWKIO0rVbI"
   },
   "source": [
    "You would see above that we used a different approach to get the vocabulary. We show cased two different approaches here to show that there are multiple options to complete a task. The option you chose is entirely up to you as long as the results are accurate. \n",
    "\n",
    "---\n",
    "\n",
    "\n",
    "Now that we built our vocabulary, out next task is to populate the frequency of the words that occur in each of our sms. For example if our sms is \"Hello There\" and \"Hello Tom\", then the result should be\n",
    "\n",
    "       Label | 'Hello'  | 'There' | 'Tom\"\n",
    "    0  spam       1          1        0\n",
    "    1  ham        1          0        1\n",
    "       "
   ]
  },
  {
   "cell_type": "markdown",
   "metadata": {
    "colab_type": "text",
    "id": "3M3xHRLXuLLK"
   },
   "source": [
    "The final result should be a dataframe where the columns are all the unqiue words and their values are the frequency or the count of each of the unique word in our sms. So let's begin. The plan of action here is to : \n",
    "- Create a dictionary where the key is the unique value in vocab. \n",
    "- The key's value is the count of the word in each sms.\n",
    "- Loop over the sms column and populate the dictionary.  "
   ]
  },
  {
   "cell_type": "code",
   "execution_count": 30,
   "metadata": {
    "colab": {},
    "colab_type": "code",
    "id": "41GQX2f81RNE"
   },
   "outputs": [],
   "source": [
    "word_counts_per_sms = {unique_word: [0] * len(training_sms_dataset['SMS']) for unique_word in vocabulary}\n",
    "\n",
    "for index, sms in enumerate(training_sms_dataset['SMS']):\n",
    "    for word in sms:\n",
    "        word_counts_per_sms[word][index] += 1"
   ]
  },
  {
   "cell_type": "code",
   "execution_count": 31,
   "metadata": {
    "colab": {},
    "colab_type": "code",
    "id": "d0sjhJUFj5mL"
   },
   "outputs": [],
   "source": [
    "words_df = pd.DataFrame(word_counts_per_sms)"
   ]
  },
  {
   "cell_type": "code",
   "execution_count": 32,
   "metadata": {
    "colab": {
     "base_uri": "https://localhost:8080/",
     "height": 251
    },
    "colab_type": "code",
    "id": "c0NvzEoOkWmw",
    "outputId": "74fb840e-cd0c-4392-897d-b85fbe2af888"
   },
   "outputs": [
    {
     "data": {
      "text/html": [
       "<div>\n",
       "<style scoped>\n",
       "    .dataframe tbody tr th:only-of-type {\n",
       "        vertical-align: middle;\n",
       "    }\n",
       "\n",
       "    .dataframe tbody tr th {\n",
       "        vertical-align: top;\n",
       "    }\n",
       "\n",
       "    .dataframe thead th {\n",
       "        text-align: right;\n",
       "    }\n",
       "</style>\n",
       "<table border=\"1\" class=\"dataframe\">\n",
       "  <thead>\n",
       "    <tr style=\"text-align: right;\">\n",
       "      <th></th>\n",
       "      <th>3mobile</th>\n",
       "      <th>radio</th>\n",
       "      <th>10ppm</th>\n",
       "      <th>devils</th>\n",
       "      <th>sudden</th>\n",
       "      <th>clothes</th>\n",
       "      <th>beth</th>\n",
       "      <th>woken</th>\n",
       "      <th>pics</th>\n",
       "      <th>burn</th>\n",
       "      <th>...</th>\n",
       "      <th>rightly</th>\n",
       "      <th>destination</th>\n",
       "      <th>cheery</th>\n",
       "      <th>alwys</th>\n",
       "      <th>walks</th>\n",
       "      <th>records</th>\n",
       "      <th>administrator</th>\n",
       "      <th>9ja</th>\n",
       "      <th>times</th>\n",
       "      <th>awww</th>\n",
       "    </tr>\n",
       "  </thead>\n",
       "  <tbody>\n",
       "    <tr>\n",
       "      <th>0</th>\n",
       "      <td>0</td>\n",
       "      <td>0</td>\n",
       "      <td>0</td>\n",
       "      <td>0</td>\n",
       "      <td>0</td>\n",
       "      <td>0</td>\n",
       "      <td>0</td>\n",
       "      <td>0</td>\n",
       "      <td>0</td>\n",
       "      <td>0</td>\n",
       "      <td>...</td>\n",
       "      <td>0</td>\n",
       "      <td>0</td>\n",
       "      <td>0</td>\n",
       "      <td>0</td>\n",
       "      <td>0</td>\n",
       "      <td>0</td>\n",
       "      <td>0</td>\n",
       "      <td>0</td>\n",
       "      <td>0</td>\n",
       "      <td>0</td>\n",
       "    </tr>\n",
       "    <tr>\n",
       "      <th>1</th>\n",
       "      <td>0</td>\n",
       "      <td>0</td>\n",
       "      <td>0</td>\n",
       "      <td>0</td>\n",
       "      <td>0</td>\n",
       "      <td>0</td>\n",
       "      <td>0</td>\n",
       "      <td>0</td>\n",
       "      <td>0</td>\n",
       "      <td>0</td>\n",
       "      <td>...</td>\n",
       "      <td>0</td>\n",
       "      <td>0</td>\n",
       "      <td>0</td>\n",
       "      <td>0</td>\n",
       "      <td>0</td>\n",
       "      <td>0</td>\n",
       "      <td>0</td>\n",
       "      <td>0</td>\n",
       "      <td>0</td>\n",
       "      <td>0</td>\n",
       "    </tr>\n",
       "    <tr>\n",
       "      <th>2</th>\n",
       "      <td>0</td>\n",
       "      <td>0</td>\n",
       "      <td>0</td>\n",
       "      <td>0</td>\n",
       "      <td>0</td>\n",
       "      <td>0</td>\n",
       "      <td>0</td>\n",
       "      <td>0</td>\n",
       "      <td>0</td>\n",
       "      <td>0</td>\n",
       "      <td>...</td>\n",
       "      <td>0</td>\n",
       "      <td>0</td>\n",
       "      <td>0</td>\n",
       "      <td>0</td>\n",
       "      <td>0</td>\n",
       "      <td>0</td>\n",
       "      <td>0</td>\n",
       "      <td>0</td>\n",
       "      <td>0</td>\n",
       "      <td>0</td>\n",
       "    </tr>\n",
       "    <tr>\n",
       "      <th>3</th>\n",
       "      <td>0</td>\n",
       "      <td>0</td>\n",
       "      <td>0</td>\n",
       "      <td>0</td>\n",
       "      <td>0</td>\n",
       "      <td>0</td>\n",
       "      <td>0</td>\n",
       "      <td>0</td>\n",
       "      <td>0</td>\n",
       "      <td>0</td>\n",
       "      <td>...</td>\n",
       "      <td>0</td>\n",
       "      <td>0</td>\n",
       "      <td>0</td>\n",
       "      <td>0</td>\n",
       "      <td>0</td>\n",
       "      <td>0</td>\n",
       "      <td>0</td>\n",
       "      <td>0</td>\n",
       "      <td>0</td>\n",
       "      <td>0</td>\n",
       "    </tr>\n",
       "    <tr>\n",
       "      <th>4</th>\n",
       "      <td>0</td>\n",
       "      <td>0</td>\n",
       "      <td>0</td>\n",
       "      <td>0</td>\n",
       "      <td>0</td>\n",
       "      <td>0</td>\n",
       "      <td>0</td>\n",
       "      <td>0</td>\n",
       "      <td>0</td>\n",
       "      <td>0</td>\n",
       "      <td>...</td>\n",
       "      <td>0</td>\n",
       "      <td>0</td>\n",
       "      <td>0</td>\n",
       "      <td>0</td>\n",
       "      <td>0</td>\n",
       "      <td>0</td>\n",
       "      <td>0</td>\n",
       "      <td>0</td>\n",
       "      <td>0</td>\n",
       "      <td>0</td>\n",
       "    </tr>\n",
       "  </tbody>\n",
       "</table>\n",
       "<p>5 rows × 7783 columns</p>\n",
       "</div>"
      ],
      "text/plain": [
       "   3mobile  radio  10ppm  devils  sudden  clothes  beth  woken  pics  burn  \\\n",
       "0        0      0      0       0       0        0     0      0     0     0   \n",
       "1        0      0      0       0       0        0     0      0     0     0   \n",
       "2        0      0      0       0       0        0     0      0     0     0   \n",
       "3        0      0      0       0       0        0     0      0     0     0   \n",
       "4        0      0      0       0       0        0     0      0     0     0   \n",
       "\n",
       "   ...  rightly  destination  cheery  alwys  walks  records  administrator  \\\n",
       "0  ...        0            0       0      0      0        0              0   \n",
       "1  ...        0            0       0      0      0        0              0   \n",
       "2  ...        0            0       0      0      0        0              0   \n",
       "3  ...        0            0       0      0      0        0              0   \n",
       "4  ...        0            0       0      0      0        0              0   \n",
       "\n",
       "   9ja  times  awww  \n",
       "0    0      0     0  \n",
       "1    0      0     0  \n",
       "2    0      0     0  \n",
       "3    0      0     0  \n",
       "4    0      0     0  \n",
       "\n",
       "[5 rows x 7783 columns]"
      ]
     },
     "execution_count": 32,
     "metadata": {},
     "output_type": "execute_result"
    }
   ],
   "source": [
    "words_df.head()"
   ]
  },
  {
   "cell_type": "code",
   "execution_count": 33,
   "metadata": {
    "colab": {},
    "colab_type": "code",
    "id": "-7mAb4j4kZ5c"
   },
   "outputs": [],
   "source": [
    "training_dataset_joined = pd.concat([training_sms_dataset,words_df], axis = 1)"
   ]
  },
  {
   "cell_type": "code",
   "execution_count": 34,
   "metadata": {
    "colab": {
     "base_uri": "https://localhost:8080/",
     "height": 477
    },
    "colab_type": "code",
    "id": "iO5NaGQPlgVV",
    "outputId": "c57c18f9-bdb2-468a-f490-53bfba0a2cf9"
   },
   "outputs": [
    {
     "data": {
      "text/html": [
       "<div>\n",
       "<style scoped>\n",
       "    .dataframe tbody tr th:only-of-type {\n",
       "        vertical-align: middle;\n",
       "    }\n",
       "\n",
       "    .dataframe tbody tr th {\n",
       "        vertical-align: top;\n",
       "    }\n",
       "\n",
       "    .dataframe thead th {\n",
       "        text-align: right;\n",
       "    }\n",
       "</style>\n",
       "<table border=\"1\" class=\"dataframe\">\n",
       "  <thead>\n",
       "    <tr style=\"text-align: right;\">\n",
       "      <th></th>\n",
       "      <th>Label</th>\n",
       "      <th>SMS</th>\n",
       "      <th>3mobile</th>\n",
       "      <th>radio</th>\n",
       "      <th>10ppm</th>\n",
       "      <th>devils</th>\n",
       "      <th>sudden</th>\n",
       "      <th>clothes</th>\n",
       "      <th>beth</th>\n",
       "      <th>woken</th>\n",
       "      <th>...</th>\n",
       "      <th>rightly</th>\n",
       "      <th>destination</th>\n",
       "      <th>cheery</th>\n",
       "      <th>alwys</th>\n",
       "      <th>walks</th>\n",
       "      <th>records</th>\n",
       "      <th>administrator</th>\n",
       "      <th>9ja</th>\n",
       "      <th>times</th>\n",
       "      <th>awww</th>\n",
       "    </tr>\n",
       "  </thead>\n",
       "  <tbody>\n",
       "    <tr>\n",
       "      <th>0</th>\n",
       "      <td>ham</td>\n",
       "      <td>[yep, by, the, pretty, sculpture]</td>\n",
       "      <td>0</td>\n",
       "      <td>0</td>\n",
       "      <td>0</td>\n",
       "      <td>0</td>\n",
       "      <td>0</td>\n",
       "      <td>0</td>\n",
       "      <td>0</td>\n",
       "      <td>0</td>\n",
       "      <td>...</td>\n",
       "      <td>0</td>\n",
       "      <td>0</td>\n",
       "      <td>0</td>\n",
       "      <td>0</td>\n",
       "      <td>0</td>\n",
       "      <td>0</td>\n",
       "      <td>0</td>\n",
       "      <td>0</td>\n",
       "      <td>0</td>\n",
       "      <td>0</td>\n",
       "    </tr>\n",
       "    <tr>\n",
       "      <th>1</th>\n",
       "      <td>ham</td>\n",
       "      <td>[yes, princess, are, you, going, to, make, me,...</td>\n",
       "      <td>0</td>\n",
       "      <td>0</td>\n",
       "      <td>0</td>\n",
       "      <td>0</td>\n",
       "      <td>0</td>\n",
       "      <td>0</td>\n",
       "      <td>0</td>\n",
       "      <td>0</td>\n",
       "      <td>...</td>\n",
       "      <td>0</td>\n",
       "      <td>0</td>\n",
       "      <td>0</td>\n",
       "      <td>0</td>\n",
       "      <td>0</td>\n",
       "      <td>0</td>\n",
       "      <td>0</td>\n",
       "      <td>0</td>\n",
       "      <td>0</td>\n",
       "      <td>0</td>\n",
       "    </tr>\n",
       "    <tr>\n",
       "      <th>2</th>\n",
       "      <td>ham</td>\n",
       "      <td>[welp, apparently, he, retired]</td>\n",
       "      <td>0</td>\n",
       "      <td>0</td>\n",
       "      <td>0</td>\n",
       "      <td>0</td>\n",
       "      <td>0</td>\n",
       "      <td>0</td>\n",
       "      <td>0</td>\n",
       "      <td>0</td>\n",
       "      <td>...</td>\n",
       "      <td>0</td>\n",
       "      <td>0</td>\n",
       "      <td>0</td>\n",
       "      <td>0</td>\n",
       "      <td>0</td>\n",
       "      <td>0</td>\n",
       "      <td>0</td>\n",
       "      <td>0</td>\n",
       "      <td>0</td>\n",
       "      <td>0</td>\n",
       "    </tr>\n",
       "    <tr>\n",
       "      <th>3</th>\n",
       "      <td>ham</td>\n",
       "      <td>[havent]</td>\n",
       "      <td>0</td>\n",
       "      <td>0</td>\n",
       "      <td>0</td>\n",
       "      <td>0</td>\n",
       "      <td>0</td>\n",
       "      <td>0</td>\n",
       "      <td>0</td>\n",
       "      <td>0</td>\n",
       "      <td>...</td>\n",
       "      <td>0</td>\n",
       "      <td>0</td>\n",
       "      <td>0</td>\n",
       "      <td>0</td>\n",
       "      <td>0</td>\n",
       "      <td>0</td>\n",
       "      <td>0</td>\n",
       "      <td>0</td>\n",
       "      <td>0</td>\n",
       "      <td>0</td>\n",
       "    </tr>\n",
       "    <tr>\n",
       "      <th>4</th>\n",
       "      <td>ham</td>\n",
       "      <td>[i, forgot, 2, ask, ü, all, smth, there, s, a,...</td>\n",
       "      <td>0</td>\n",
       "      <td>0</td>\n",
       "      <td>0</td>\n",
       "      <td>0</td>\n",
       "      <td>0</td>\n",
       "      <td>0</td>\n",
       "      <td>0</td>\n",
       "      <td>0</td>\n",
       "      <td>...</td>\n",
       "      <td>0</td>\n",
       "      <td>0</td>\n",
       "      <td>0</td>\n",
       "      <td>0</td>\n",
       "      <td>0</td>\n",
       "      <td>0</td>\n",
       "      <td>0</td>\n",
       "      <td>0</td>\n",
       "      <td>0</td>\n",
       "      <td>0</td>\n",
       "    </tr>\n",
       "  </tbody>\n",
       "</table>\n",
       "<p>5 rows × 7785 columns</p>\n",
       "</div>"
      ],
      "text/plain": [
       "  Label                                                SMS  3mobile  radio  \\\n",
       "0   ham                  [yep, by, the, pretty, sculpture]        0      0   \n",
       "1   ham  [yes, princess, are, you, going, to, make, me,...        0      0   \n",
       "2   ham                    [welp, apparently, he, retired]        0      0   \n",
       "3   ham                                           [havent]        0      0   \n",
       "4   ham  [i, forgot, 2, ask, ü, all, smth, there, s, a,...        0      0   \n",
       "\n",
       "   10ppm  devils  sudden  clothes  beth  woken  ...  rightly  destination  \\\n",
       "0      0       0       0        0     0      0  ...        0            0   \n",
       "1      0       0       0        0     0      0  ...        0            0   \n",
       "2      0       0       0        0     0      0  ...        0            0   \n",
       "3      0       0       0        0     0      0  ...        0            0   \n",
       "4      0       0       0        0     0      0  ...        0            0   \n",
       "\n",
       "   cheery  alwys  walks  records  administrator  9ja  times  awww  \n",
       "0       0      0      0        0              0    0      0     0  \n",
       "1       0      0      0        0              0    0      0     0  \n",
       "2       0      0      0        0              0    0      0     0  \n",
       "3       0      0      0        0              0    0      0     0  \n",
       "4       0      0      0        0              0    0      0     0  \n",
       "\n",
       "[5 rows x 7785 columns]"
      ]
     },
     "execution_count": 34,
     "metadata": {},
     "output_type": "execute_result"
    }
   ],
   "source": [
    "training_dataset_joined.head()"
   ]
  },
  {
   "cell_type": "code",
   "execution_count": 35,
   "metadata": {
    "colab": {
     "base_uri": "https://localhost:8080/",
     "height": 121
    },
    "colab_type": "code",
    "id": "4lKPNujpll5h",
    "outputId": "c30f348c-c986-41ac-f5c1-4cc9c2cc0158"
   },
   "outputs": [
    {
     "data": {
      "text/plain": [
       "0    0\n",
       "1    0\n",
       "2    1\n",
       "3    0\n",
       "4    0\n",
       "Name: welp, dtype: int64"
      ]
     },
     "execution_count": 35,
     "metadata": {},
     "output_type": "execute_result"
    }
   ],
   "source": [
    "training_dataset_joined['welp'].head()"
   ]
  },
  {
   "cell_type": "code",
   "execution_count": 36,
   "metadata": {
    "colab": {
     "base_uri": "https://localhost:8080/",
     "height": 121
    },
    "colab_type": "code",
    "id": "7QitlTnclzVQ",
    "outputId": "36f8420b-bb14-4043-fd61-2ec9d9d5adf6"
   },
   "outputs": [
    {
     "data": {
      "text/plain": [
       "0    0\n",
       "1    0\n",
       "2    0\n",
       "3    0\n",
       "4    2\n",
       "Name: all, dtype: int64"
      ]
     },
     "execution_count": 36,
     "metadata": {},
     "output_type": "execute_result"
    }
   ],
   "source": [
    "training_dataset_joined['all'].head()"
   ]
  },
  {
   "cell_type": "markdown",
   "metadata": {
    "colab_type": "text",
    "id": "dmrIEqIGmAKW"
   },
   "source": [
    "Now that we have cleaned and formatted the data, let us move towards calculations. Let's recap on the formulas from earlier. \n",
    "  \n",
    "![alt text](https://render.githubusercontent.com/render/math?math=P%28Spam%20%7C%20w_1%2Cw_2%2C%20...%2C%20w_n%29%20%5Cpropto%20P%28Spam%29%20%5Ccdot%20%5Cprod_%7Bi%3D1%7D%5E%7Bn%7DP%28w_i%7CSpam%29&mode=display)\n",
    "\n",
    "![alt text](https://render.githubusercontent.com/render/math?math=P%28Ham%20%7C%20w_1%2Cw_2%2C%20...%2C%20w_n%29%20%5Cpropto%20P%28Ham%29%20%5Ccdot%20%5Cprod_%7Bi%3D1%7D%5E%7Bn%7DP%28w_i%7CHam%29&mode=display)\n",
    "\n",
    "![alt text](https://render.githubusercontent.com/render/math?math=P%28w_i%7CSpam%29%20%3D%20%5Cfrac%7BN_%7Bw_i%7CSpam%7D%20%2B%20%5Calpha%7D%7BN_%7BSpam%7D%20%2B%20%5Calpha%20%5Ccdot%20N_%7BVocabulary%7D%7D&mode=display)\n",
    "\n",
    "  ![alt text](https://render.githubusercontent.com/render/math?math=P%28w_i%7CHam%29%20%3D%20%5Cfrac%7BN_%7Bw_i%7CHam%7D%20%2B%20%5Calpha%7D%7BN_%7BHam%7D%20%2B%20%5Calpha%20%5Ccdot%20N_%7BVocabulary%7D%7D&mode=display)\n",
    "\n",
    "Let's begin by calculating the individual values and then plug them into the formula. We will calculate \n",
    "\n",
    "- P(spam) \n",
    "- P(ham) \n",
    "- Nspam\n",
    "- Nvocabulary "
   ]
  },
  {
   "cell_type": "code",
   "execution_count": 37,
   "metadata": {
    "colab": {
     "base_uri": "https://localhost:8080/",
     "height": 69
    },
    "colab_type": "code",
    "id": "7ppmr5vfm0VW",
    "outputId": "6c585415-c4ef-420f-ee84-c09be1740a36"
   },
   "outputs": [
    {
     "data": {
      "text/plain": [
       "ham     0.86541\n",
       "spam    0.13459\n",
       "Name: Label, dtype: float64"
      ]
     },
     "execution_count": 37,
     "metadata": {},
     "output_type": "execute_result"
    }
   ],
   "source": [
    "training_dataset_joined['Label'].value_counts(normalize = True)"
   ]
  },
  {
   "cell_type": "code",
   "execution_count": 38,
   "metadata": {
    "colab": {},
    "colab_type": "code",
    "id": "uFHRqnU_7l7d"
   },
   "outputs": [],
   "source": [
    "p_ham = 0.86541\n",
    "p_spam = 0.13459"
   ]
  },
  {
   "cell_type": "code",
   "execution_count": 39,
   "metadata": {
    "colab": {},
    "colab_type": "code",
    "id": "UJFPa4k48vng"
   },
   "outputs": [],
   "source": [
    "spam = training_dataset_joined[training_dataset_joined['Label'] == 'spam']"
   ]
  },
  {
   "cell_type": "code",
   "execution_count": 40,
   "metadata": {
    "colab": {
     "base_uri": "https://localhost:8080/",
     "height": 546
    },
    "colab_type": "code",
    "id": "RXxXXKaJ9nvF",
    "outputId": "a5c5a443-afe2-4276-c60d-9455b4b3515e"
   },
   "outputs": [
    {
     "data": {
      "text/html": [
       "<div>\n",
       "<style scoped>\n",
       "    .dataframe tbody tr th:only-of-type {\n",
       "        vertical-align: middle;\n",
       "    }\n",
       "\n",
       "    .dataframe tbody tr th {\n",
       "        vertical-align: top;\n",
       "    }\n",
       "\n",
       "    .dataframe thead th {\n",
       "        text-align: right;\n",
       "    }\n",
       "</style>\n",
       "<table border=\"1\" class=\"dataframe\">\n",
       "  <thead>\n",
       "    <tr style=\"text-align: right;\">\n",
       "      <th></th>\n",
       "      <th>Label</th>\n",
       "      <th>SMS</th>\n",
       "      <th>3mobile</th>\n",
       "      <th>radio</th>\n",
       "      <th>10ppm</th>\n",
       "      <th>devils</th>\n",
       "      <th>sudden</th>\n",
       "      <th>clothes</th>\n",
       "      <th>beth</th>\n",
       "      <th>woken</th>\n",
       "      <th>...</th>\n",
       "      <th>rightly</th>\n",
       "      <th>destination</th>\n",
       "      <th>cheery</th>\n",
       "      <th>alwys</th>\n",
       "      <th>walks</th>\n",
       "      <th>records</th>\n",
       "      <th>administrator</th>\n",
       "      <th>9ja</th>\n",
       "      <th>times</th>\n",
       "      <th>awww</th>\n",
       "    </tr>\n",
       "  </thead>\n",
       "  <tbody>\n",
       "    <tr>\n",
       "      <th>16</th>\n",
       "      <td>spam</td>\n",
       "      <td>[freemsg, why, haven, t, you, replied, to, my,...</td>\n",
       "      <td>0</td>\n",
       "      <td>0</td>\n",
       "      <td>0</td>\n",
       "      <td>0</td>\n",
       "      <td>0</td>\n",
       "      <td>0</td>\n",
       "      <td>0</td>\n",
       "      <td>0</td>\n",
       "      <td>...</td>\n",
       "      <td>0</td>\n",
       "      <td>0</td>\n",
       "      <td>0</td>\n",
       "      <td>0</td>\n",
       "      <td>0</td>\n",
       "      <td>0</td>\n",
       "      <td>0</td>\n",
       "      <td>0</td>\n",
       "      <td>0</td>\n",
       "      <td>0</td>\n",
       "    </tr>\n",
       "    <tr>\n",
       "      <th>18</th>\n",
       "      <td>spam</td>\n",
       "      <td>[congrats, 2, mobile, 3g, videophones, r, your...</td>\n",
       "      <td>0</td>\n",
       "      <td>0</td>\n",
       "      <td>0</td>\n",
       "      <td>0</td>\n",
       "      <td>0</td>\n",
       "      <td>0</td>\n",
       "      <td>0</td>\n",
       "      <td>0</td>\n",
       "      <td>...</td>\n",
       "      <td>0</td>\n",
       "      <td>0</td>\n",
       "      <td>0</td>\n",
       "      <td>0</td>\n",
       "      <td>0</td>\n",
       "      <td>0</td>\n",
       "      <td>0</td>\n",
       "      <td>0</td>\n",
       "      <td>0</td>\n",
       "      <td>0</td>\n",
       "    </tr>\n",
       "    <tr>\n",
       "      <th>56</th>\n",
       "      <td>spam</td>\n",
       "      <td>[free, message, activate, your, 500, free, tex...</td>\n",
       "      <td>0</td>\n",
       "      <td>0</td>\n",
       "      <td>0</td>\n",
       "      <td>0</td>\n",
       "      <td>0</td>\n",
       "      <td>0</td>\n",
       "      <td>0</td>\n",
       "      <td>0</td>\n",
       "      <td>...</td>\n",
       "      <td>0</td>\n",
       "      <td>0</td>\n",
       "      <td>0</td>\n",
       "      <td>0</td>\n",
       "      <td>0</td>\n",
       "      <td>0</td>\n",
       "      <td>0</td>\n",
       "      <td>0</td>\n",
       "      <td>0</td>\n",
       "      <td>0</td>\n",
       "    </tr>\n",
       "    <tr>\n",
       "      <th>60</th>\n",
       "      <td>spam</td>\n",
       "      <td>[call, from, 08702490080, tells, u, 2, call, 0...</td>\n",
       "      <td>0</td>\n",
       "      <td>0</td>\n",
       "      <td>0</td>\n",
       "      <td>0</td>\n",
       "      <td>0</td>\n",
       "      <td>0</td>\n",
       "      <td>0</td>\n",
       "      <td>0</td>\n",
       "      <td>...</td>\n",
       "      <td>0</td>\n",
       "      <td>0</td>\n",
       "      <td>0</td>\n",
       "      <td>0</td>\n",
       "      <td>0</td>\n",
       "      <td>0</td>\n",
       "      <td>0</td>\n",
       "      <td>0</td>\n",
       "      <td>0</td>\n",
       "      <td>0</td>\n",
       "    </tr>\n",
       "    <tr>\n",
       "      <th>61</th>\n",
       "      <td>spam</td>\n",
       "      <td>[someone, has, conacted, our, dating, service,...</td>\n",
       "      <td>0</td>\n",
       "      <td>0</td>\n",
       "      <td>0</td>\n",
       "      <td>0</td>\n",
       "      <td>0</td>\n",
       "      <td>0</td>\n",
       "      <td>0</td>\n",
       "      <td>0</td>\n",
       "      <td>...</td>\n",
       "      <td>0</td>\n",
       "      <td>0</td>\n",
       "      <td>0</td>\n",
       "      <td>0</td>\n",
       "      <td>0</td>\n",
       "      <td>0</td>\n",
       "      <td>0</td>\n",
       "      <td>0</td>\n",
       "      <td>0</td>\n",
       "      <td>0</td>\n",
       "    </tr>\n",
       "  </tbody>\n",
       "</table>\n",
       "<p>5 rows × 7785 columns</p>\n",
       "</div>"
      ],
      "text/plain": [
       "   Label                                                SMS  3mobile  radio  \\\n",
       "16  spam  [freemsg, why, haven, t, you, replied, to, my,...        0      0   \n",
       "18  spam  [congrats, 2, mobile, 3g, videophones, r, your...        0      0   \n",
       "56  spam  [free, message, activate, your, 500, free, tex...        0      0   \n",
       "60  spam  [call, from, 08702490080, tells, u, 2, call, 0...        0      0   \n",
       "61  spam  [someone, has, conacted, our, dating, service,...        0      0   \n",
       "\n",
       "    10ppm  devils  sudden  clothes  beth  woken  ...  rightly  destination  \\\n",
       "16      0       0       0        0     0      0  ...        0            0   \n",
       "18      0       0       0        0     0      0  ...        0            0   \n",
       "56      0       0       0        0     0      0  ...        0            0   \n",
       "60      0       0       0        0     0      0  ...        0            0   \n",
       "61      0       0       0        0     0      0  ...        0            0   \n",
       "\n",
       "    cheery  alwys  walks  records  administrator  9ja  times  awww  \n",
       "16       0      0      0        0              0    0      0     0  \n",
       "18       0      0      0        0              0    0      0     0  \n",
       "56       0      0      0        0              0    0      0     0  \n",
       "60       0      0      0        0              0    0      0     0  \n",
       "61       0      0      0        0              0    0      0     0  \n",
       "\n",
       "[5 rows x 7785 columns]"
      ]
     },
     "execution_count": 40,
     "metadata": {},
     "output_type": "execute_result"
    }
   ],
   "source": [
    "spam.head()"
   ]
  },
  {
   "cell_type": "code",
   "execution_count": 41,
   "metadata": {
    "colab": {},
    "colab_type": "code",
    "id": "TYT7S3W19ujN"
   },
   "outputs": [],
   "source": [
    "ham = training_dataset_joined[training_dataset_joined['Label'] == 'ham']"
   ]
  },
  {
   "cell_type": "code",
   "execution_count": 42,
   "metadata": {
    "colab": {
     "base_uri": "https://localhost:8080/",
     "height": 477
    },
    "colab_type": "code",
    "id": "GLgYY_4q99Qj",
    "outputId": "68db5f4b-f54c-4a5b-8eea-0c01e07ba69a"
   },
   "outputs": [
    {
     "data": {
      "text/html": [
       "<div>\n",
       "<style scoped>\n",
       "    .dataframe tbody tr th:only-of-type {\n",
       "        vertical-align: middle;\n",
       "    }\n",
       "\n",
       "    .dataframe tbody tr th {\n",
       "        vertical-align: top;\n",
       "    }\n",
       "\n",
       "    .dataframe thead th {\n",
       "        text-align: right;\n",
       "    }\n",
       "</style>\n",
       "<table border=\"1\" class=\"dataframe\">\n",
       "  <thead>\n",
       "    <tr style=\"text-align: right;\">\n",
       "      <th></th>\n",
       "      <th>Label</th>\n",
       "      <th>SMS</th>\n",
       "      <th>3mobile</th>\n",
       "      <th>radio</th>\n",
       "      <th>10ppm</th>\n",
       "      <th>devils</th>\n",
       "      <th>sudden</th>\n",
       "      <th>clothes</th>\n",
       "      <th>beth</th>\n",
       "      <th>woken</th>\n",
       "      <th>...</th>\n",
       "      <th>rightly</th>\n",
       "      <th>destination</th>\n",
       "      <th>cheery</th>\n",
       "      <th>alwys</th>\n",
       "      <th>walks</th>\n",
       "      <th>records</th>\n",
       "      <th>administrator</th>\n",
       "      <th>9ja</th>\n",
       "      <th>times</th>\n",
       "      <th>awww</th>\n",
       "    </tr>\n",
       "  </thead>\n",
       "  <tbody>\n",
       "    <tr>\n",
       "      <th>0</th>\n",
       "      <td>ham</td>\n",
       "      <td>[yep, by, the, pretty, sculpture]</td>\n",
       "      <td>0</td>\n",
       "      <td>0</td>\n",
       "      <td>0</td>\n",
       "      <td>0</td>\n",
       "      <td>0</td>\n",
       "      <td>0</td>\n",
       "      <td>0</td>\n",
       "      <td>0</td>\n",
       "      <td>...</td>\n",
       "      <td>0</td>\n",
       "      <td>0</td>\n",
       "      <td>0</td>\n",
       "      <td>0</td>\n",
       "      <td>0</td>\n",
       "      <td>0</td>\n",
       "      <td>0</td>\n",
       "      <td>0</td>\n",
       "      <td>0</td>\n",
       "      <td>0</td>\n",
       "    </tr>\n",
       "    <tr>\n",
       "      <th>1</th>\n",
       "      <td>ham</td>\n",
       "      <td>[yes, princess, are, you, going, to, make, me,...</td>\n",
       "      <td>0</td>\n",
       "      <td>0</td>\n",
       "      <td>0</td>\n",
       "      <td>0</td>\n",
       "      <td>0</td>\n",
       "      <td>0</td>\n",
       "      <td>0</td>\n",
       "      <td>0</td>\n",
       "      <td>...</td>\n",
       "      <td>0</td>\n",
       "      <td>0</td>\n",
       "      <td>0</td>\n",
       "      <td>0</td>\n",
       "      <td>0</td>\n",
       "      <td>0</td>\n",
       "      <td>0</td>\n",
       "      <td>0</td>\n",
       "      <td>0</td>\n",
       "      <td>0</td>\n",
       "    </tr>\n",
       "    <tr>\n",
       "      <th>2</th>\n",
       "      <td>ham</td>\n",
       "      <td>[welp, apparently, he, retired]</td>\n",
       "      <td>0</td>\n",
       "      <td>0</td>\n",
       "      <td>0</td>\n",
       "      <td>0</td>\n",
       "      <td>0</td>\n",
       "      <td>0</td>\n",
       "      <td>0</td>\n",
       "      <td>0</td>\n",
       "      <td>...</td>\n",
       "      <td>0</td>\n",
       "      <td>0</td>\n",
       "      <td>0</td>\n",
       "      <td>0</td>\n",
       "      <td>0</td>\n",
       "      <td>0</td>\n",
       "      <td>0</td>\n",
       "      <td>0</td>\n",
       "      <td>0</td>\n",
       "      <td>0</td>\n",
       "    </tr>\n",
       "    <tr>\n",
       "      <th>3</th>\n",
       "      <td>ham</td>\n",
       "      <td>[havent]</td>\n",
       "      <td>0</td>\n",
       "      <td>0</td>\n",
       "      <td>0</td>\n",
       "      <td>0</td>\n",
       "      <td>0</td>\n",
       "      <td>0</td>\n",
       "      <td>0</td>\n",
       "      <td>0</td>\n",
       "      <td>...</td>\n",
       "      <td>0</td>\n",
       "      <td>0</td>\n",
       "      <td>0</td>\n",
       "      <td>0</td>\n",
       "      <td>0</td>\n",
       "      <td>0</td>\n",
       "      <td>0</td>\n",
       "      <td>0</td>\n",
       "      <td>0</td>\n",
       "      <td>0</td>\n",
       "    </tr>\n",
       "    <tr>\n",
       "      <th>4</th>\n",
       "      <td>ham</td>\n",
       "      <td>[i, forgot, 2, ask, ü, all, smth, there, s, a,...</td>\n",
       "      <td>0</td>\n",
       "      <td>0</td>\n",
       "      <td>0</td>\n",
       "      <td>0</td>\n",
       "      <td>0</td>\n",
       "      <td>0</td>\n",
       "      <td>0</td>\n",
       "      <td>0</td>\n",
       "      <td>...</td>\n",
       "      <td>0</td>\n",
       "      <td>0</td>\n",
       "      <td>0</td>\n",
       "      <td>0</td>\n",
       "      <td>0</td>\n",
       "      <td>0</td>\n",
       "      <td>0</td>\n",
       "      <td>0</td>\n",
       "      <td>0</td>\n",
       "      <td>0</td>\n",
       "    </tr>\n",
       "  </tbody>\n",
       "</table>\n",
       "<p>5 rows × 7785 columns</p>\n",
       "</div>"
      ],
      "text/plain": [
       "  Label                                                SMS  3mobile  radio  \\\n",
       "0   ham                  [yep, by, the, pretty, sculpture]        0      0   \n",
       "1   ham  [yes, princess, are, you, going, to, make, me,...        0      0   \n",
       "2   ham                    [welp, apparently, he, retired]        0      0   \n",
       "3   ham                                           [havent]        0      0   \n",
       "4   ham  [i, forgot, 2, ask, ü, all, smth, there, s, a,...        0      0   \n",
       "\n",
       "   10ppm  devils  sudden  clothes  beth  woken  ...  rightly  destination  \\\n",
       "0      0       0       0        0     0      0  ...        0            0   \n",
       "1      0       0       0        0     0      0  ...        0            0   \n",
       "2      0       0       0        0     0      0  ...        0            0   \n",
       "3      0       0       0        0     0      0  ...        0            0   \n",
       "4      0       0       0        0     0      0  ...        0            0   \n",
       "\n",
       "   cheery  alwys  walks  records  administrator  9ja  times  awww  \n",
       "0       0      0      0        0              0    0      0     0  \n",
       "1       0      0      0        0              0    0      0     0  \n",
       "2       0      0      0        0              0    0      0     0  \n",
       "3       0      0      0        0              0    0      0     0  \n",
       "4       0      0      0        0              0    0      0     0  \n",
       "\n",
       "[5 rows x 7785 columns]"
      ]
     },
     "execution_count": 42,
     "metadata": {},
     "output_type": "execute_result"
    }
   ],
   "source": [
    "ham.head()"
   ]
  },
  {
   "cell_type": "code",
   "execution_count": 43,
   "metadata": {
    "colab": {},
    "colab_type": "code",
    "id": "7JeoWegW9-JT"
   },
   "outputs": [],
   "source": [
    "#calculating Nspam\n",
    "spam_words = [len(x) for x in spam['SMS'] ]"
   ]
  },
  {
   "cell_type": "code",
   "execution_count": 44,
   "metadata": {
    "colab": {},
    "colab_type": "code",
    "id": "rKRdN2Xh_zQq"
   },
   "outputs": [],
   "source": [
    "n_spam = sum(spam_words)"
   ]
  },
  {
   "cell_type": "code",
   "execution_count": 45,
   "metadata": {
    "colab": {
     "base_uri": "https://localhost:8080/",
     "height": 35
    },
    "colab_type": "code",
    "id": "3dI2uoIWAy7w",
    "outputId": "15b31642-75ca-4929-e7b8-10647fdb3f86"
   },
   "outputs": [
    {
     "data": {
      "text/plain": [
       "15190"
      ]
     },
     "execution_count": 45,
     "metadata": {},
     "output_type": "execute_result"
    }
   ],
   "source": [
    "n_spam"
   ]
  },
  {
   "cell_type": "code",
   "execution_count": 46,
   "metadata": {
    "colab": {},
    "colab_type": "code",
    "id": "K81Kn_Z1A5HA"
   },
   "outputs": [],
   "source": [
    "#calculating Nham\n",
    "ham_words = [len(x) for x in ham['SMS']]"
   ]
  },
  {
   "cell_type": "code",
   "execution_count": 47,
   "metadata": {
    "colab": {},
    "colab_type": "code",
    "id": "q-TDeEk7BdEo"
   },
   "outputs": [],
   "source": [
    "n_ham = sum(ham_words)"
   ]
  },
  {
   "cell_type": "code",
   "execution_count": 48,
   "metadata": {
    "colab": {
     "base_uri": "https://localhost:8080/",
     "height": 35
    },
    "colab_type": "code",
    "id": "M4ngEVDCBfOg",
    "outputId": "6c780641-0532-4343-c51f-57da7ea1dd22"
   },
   "outputs": [
    {
     "data": {
      "text/plain": [
       "57237"
      ]
     },
     "execution_count": 48,
     "metadata": {},
     "output_type": "execute_result"
    }
   ],
   "source": [
    "n_ham"
   ]
  },
  {
   "cell_type": "code",
   "execution_count": 49,
   "metadata": {
    "colab": {
     "base_uri": "https://localhost:8080/",
     "height": 35
    },
    "colab_type": "code",
    "id": "HNeYkvSzBpD1",
    "outputId": "dfbb7fca-4ca1-460a-fbf0-f08ae2ac9b47"
   },
   "outputs": [
    {
     "data": {
      "text/plain": [
       "7783"
      ]
     },
     "execution_count": 49,
     "metadata": {},
     "output_type": "execute_result"
    }
   ],
   "source": [
    "#calculating Nvocab\n",
    "n_vocab = len(vocabulary)\n",
    "n_vocab"
   ]
  },
  {
   "cell_type": "code",
   "execution_count": 50,
   "metadata": {
    "colab": {},
    "colab_type": "code",
    "id": "8TpGqfwsC6D-"
   },
   "outputs": [],
   "source": [
    "#introduce alpha for laplace smoothing \n",
    "alpha = 1 "
   ]
  },
  {
   "cell_type": "markdown",
   "metadata": {
    "colab_type": "text",
    "id": "i7ccSsNfDHT6"
   },
   "source": [
    "We have pretty much calculated the constants. You might be wondering why is p(spam) and P(ham) constant. Remember one of our objectives. We train the computer to classify. We train it based on the training dataset. So now that a new message comes in, the knowledge gained from the training is used. The new message is NOT ADDED to the training dataset. Hence the values remain constant. \n",
    "\n",
    "We will now look at calculations for P(Wi | spam) and P(Wi | ham). It is important to take a moment and understand a few things here especially as to why we perfomed all the above and below tasks beforehand.. Let' say you recieved a message \"Secret santa is coming!\". Imagine if you didnt have an algorithm in place. You would have to calculate the probability of P('secret' | spam) P(\n",
    "  secret' | ham) and so on for every word right at the moment. Now imagine having 1,000,000 sms in the pipeline waiting to be classified. \n",
    "\n",
    "What we rather do is calculate the probability of each unqiue word given spam and ham in our training dataset beforehand. Then a new message comes in, which is 'Secret santa is coming!'. We pick up the word secret in the message and realise we already have the probability for secret | spam and secret | ham calculated. See how much faster now the process goes given we have some values calculated beforehand. \n",
    "\n",
    "The only catch here is that \"as long as words in the new message are in the training dataset\". All of the above logic only holds if we don't make any changes to the training dataset. "
   ]
  },
  {
   "cell_type": "markdown",
   "metadata": {
    "colab_type": "text",
    "id": "INAqVqgvOOUP"
   },
   "source": [
    "Let's get back to calculating the probability of words. "
   ]
  },
  {
   "cell_type": "code",
   "execution_count": 51,
   "metadata": {
    "colab": {},
    "colab_type": "code",
    "id": "R-IMiGLEOiuN"
   },
   "outputs": [],
   "source": [
    "spam_words_prob = {} \n",
    "ham_words_prob = {}"
   ]
  },
  {
   "cell_type": "code",
   "execution_count": 52,
   "metadata": {
    "colab": {},
    "colab_type": "code",
    "id": "jmzqooxZQLCQ"
   },
   "outputs": [],
   "source": [
    "for word in vocabulary: \n",
    "  spam_words_prob[word] = 0 \n",
    "  ham_words_prob[word] = 0 "
   ]
  },
  {
   "cell_type": "code",
   "execution_count": 53,
   "metadata": {
    "colab": {
     "base_uri": "https://localhost:8080/",
     "height": 35
    },
    "colab_type": "code",
    "id": "swCA7d11RFrb",
    "outputId": "411186ae-ec17-4bf0-8ff9-cd23fce83bac"
   },
   "outputs": [
    {
     "data": {
      "text/plain": [
       "7783"
      ]
     },
     "execution_count": 53,
     "metadata": {},
     "output_type": "execute_result"
    }
   ],
   "source": [
    "len(spam_words_prob.keys())"
   ]
  },
  {
   "cell_type": "code",
   "execution_count": 54,
   "metadata": {
    "colab": {
     "base_uri": "https://localhost:8080/",
     "height": 35
    },
    "colab_type": "code",
    "id": "SQodC8eURHEO",
    "outputId": "ba169ff7-553b-44d1-e380-134da96414f6"
   },
   "outputs": [
    {
     "data": {
      "text/plain": [
       "7783"
      ]
     },
     "execution_count": 54,
     "metadata": {},
     "output_type": "execute_result"
    }
   ],
   "source": [
    "len(ham_words_prob.keys())"
   ]
  },
  {
   "cell_type": "code",
   "execution_count": 55,
   "metadata": {
    "colab": {
     "base_uri": "https://localhost:8080/",
     "height": 35
    },
    "colab_type": "code",
    "id": "05xo70yWUpY_",
    "outputId": "751d3be2-1190-4eed-ea75-220e79f5b383"
   },
   "outputs": [
    {
     "data": {
      "text/plain": [
       "3858"
      ]
     },
     "execution_count": 55,
     "metadata": {},
     "output_type": "execute_result"
    }
   ],
   "source": [
    "ham.shape[0]"
   ]
  },
  {
   "cell_type": "code",
   "execution_count": 56,
   "metadata": {
    "colab": {
     "base_uri": "https://localhost:8080/",
     "height": 35
    },
    "colab_type": "code",
    "id": "TTBQBsdDVAJ5",
    "outputId": "75e496aa-6367-4e69-a25e-962be0a1e2b8"
   },
   "outputs": [
    {
     "data": {
      "text/plain": [
       "600"
      ]
     },
     "execution_count": 56,
     "metadata": {},
     "output_type": "execute_result"
    }
   ],
   "source": [
    "spam.shape[0]"
   ]
  },
  {
   "cell_type": "code",
   "execution_count": 57,
   "metadata": {
    "colab": {},
    "colab_type": "code",
    "id": "ifBvPFE5RXlv"
   },
   "outputs": [],
   "source": [
    "#calculating P(Wi | ham)\n",
    "for word in vocabulary:\n",
    "    numerator = ham[word].sum() + alpha\n",
    "    denominator = n_ham + (n_vocab * alpha)\n",
    "    prob = numerator / denominator\n",
    "    ham_words_prob[word] = prob\n",
    "    \n",
    "     \n",
    "    \n",
    "    "
   ]
  },
  {
   "cell_type": "code",
   "execution_count": 58,
   "metadata": {
    "colab": {},
    "colab_type": "code",
    "id": "GrrQCK3lSTa_"
   },
   "outputs": [],
   "source": [
    "#calculating P(Wi | spam)\n",
    "for word in vocabulary: \n",
    "  numerator = spam[word].sum() + alpha\n",
    "  denominator = n_spam + (n_vocab * alpha)\n",
    "  prob = numerator / denominator\n",
    "  spam_words_prob[word] = prob\n"
   ]
  },
  {
   "cell_type": "markdown",
   "metadata": {
    "colab_type": "text",
    "id": "1RbxMyXWTsYf"
   },
   "source": [
    "That was fun!. It might be confusing at first. Take your time and carefully calculate each value. Name your variables accurately so you can call them in functions or the formula easier. \n",
    "\n",
    "The hard part is almost done. Now all the remains is the filter. In essence, the filter will be a function that will take in the message as an argument and return whether the messge is spam or not based on probability calculations.\n",
    "\n",
    "Keep in mind we have only calculated the probability of the words given they are in spam or ham messages. We still have to calculate the P(spam | new message) and P(ham | new message). The multinomial bayes will be calculated in our function. \n",
    "\n",
    "That being said, take a break. Stretch out your limbs. Drink a hot cup of coffee and then let's get back to coding !"
   ]
  },
  {
   "cell_type": "code",
   "execution_count": 59,
   "metadata": {
    "colab": {},
    "colab_type": "code",
    "id": "Y0I7Xlw7bX0t"
   },
   "outputs": [],
   "source": [
    "def classify_message(sms): \n",
    "  #the first step is to clean the data like we performed earlier. \n",
    "  import re \n",
    "  sms_message = re.sub('\\W', ' ', sms)\n",
    "  sms_message = sms_message.lower()\n",
    "  sms_message = sms_message.split()\n",
    "\n",
    "  #remember the formula. P(spam | wn) = P(spam) * (W1|spam).....(Wn|spam) where n is the number of words in the sms.\n",
    "  #also remember the constants we calculated. Since p(spam) and p(ham) are both constants that are a part of the formula, let's assign to the formula first.\n",
    "  p_ham_given_message = p_ham\n",
    "  p_spam_given_message = p_spam\n",
    "\n",
    "  #now let's start calculating the probability for each word in the sms.\n",
    "\n",
    "  for word in sms_message: \n",
    "    if word in ham_words_prob:\n",
    "      p_ham_given_message *= ham_words_prob[word]\n",
    "\n",
    "    if word in spam_words_prob: \n",
    "      p_spam_given_message *= spam_words_prob[word]\n",
    "\n",
    "    \n",
    "  print(\"P(ham | new message) :\", p_ham_given_message)\n",
    "  print(\"P(spam | new message) :\", p_spam_given_message)\n",
    "\n",
    "  if p_ham_given_message > p_spam_given_message: \n",
    "      print('Label : Ham. This is a non spam sms.')\n",
    "  elif p_spam_given_message > p_ham_given_message: \n",
    "      print('Label : Spam. This is a spam sms')\n",
    "  else: \n",
    "      print('We need a humam to classify this message due to equal probabilities.')\n",
    "    \n",
    "    \n",
    "\n"
   ]
  },
  {
   "cell_type": "code",
   "execution_count": 60,
   "metadata": {
    "colab": {
     "base_uri": "https://localhost:8080/",
     "height": 69
    },
    "colab_type": "code",
    "id": "DyenoEK3izEb",
    "outputId": "0d673cb3-b120-4898-d1d2-600db68bf78a"
   },
   "outputs": [
    {
     "name": "stdout",
     "output_type": "stream",
     "text": [
      "P(ham | new message) : 1.9368037883678308e-27\n",
      "P(spam | new message) : 1.3481340092074626e-25\n",
      "Label : Spam. This is a spam sms\n"
     ]
    }
   ],
   "source": [
    "#Let's test out our function\n",
    "classify_message('WINNER!! This is the secret code to unlock the money: C3421.')"
   ]
  },
  {
   "cell_type": "code",
   "execution_count": 61,
   "metadata": {
    "colab": {
     "base_uri": "https://localhost:8080/",
     "height": 69
    },
    "colab_type": "code",
    "id": "rVFyeXRii-Rn",
    "outputId": "76252a50-544d-4e4f-d317-481fd0b4845c"
   },
   "outputs": [
    {
     "name": "stdout",
     "output_type": "stream",
     "text": [
      "P(ham | new message) : 3.687528313102144e-21\n",
      "P(spam | new message) : 2.437246584367808e-25\n",
      "Label : Ham. This is a non spam sms.\n"
     ]
    }
   ],
   "source": [
    "classify_message(\"Sounds good, Tom, then see u there\")"
   ]
  },
  {
   "cell_type": "markdown",
   "metadata": {
    "colab_type": "text",
    "id": "51dGjtcNjlkt"
   },
   "source": [
    "Now that our filter is ready, let's use it to test our testing dataset that we created earlier. Remember we have not used any values from the testing dataset, hence each message in the testing dataset can be classified as a new message. \n",
    "\n",
    "The idea here is to create a column in our testing dataset that has the labels from our function. We can then compare the actual labels vs generated labels to measure accuracy."
   ]
  },
  {
   "cell_type": "code",
   "execution_count": 62,
   "metadata": {
    "colab": {},
    "colab_type": "code",
    "id": "g08HX_41nOuQ"
   },
   "outputs": [],
   "source": [
    "#let's make changes to our function so this time it outputs a label instead of printing it out. \n",
    "def classify_message(sms): \n",
    "  #the first step is to clean the data like we performed earlier. \n",
    "  import re \n",
    "  sms_message = re.sub('\\W', ' ', sms)\n",
    "  sms_message = sms_message.lower()\n",
    "  sms_message = sms_message.split()\n",
    "\n",
    "  #remember the formula. P(spam | wn) = P(spam) * (W1|spam).....(Wn|spam) where n is the number of words in the sms.\n",
    "  #also remember the constants we calculated. Since p(spam) and p(ham) are both constants that are a part of the formula, let's assign to the formula first.\n",
    "  p_ham_given_message = p_ham\n",
    "  p_spam_given_message = p_spam\n",
    "\n",
    "  #now let's start calculating the probability for each word in the sms.\n",
    "\n",
    "  for word in sms_message: \n",
    "    if word in ham_words_prob:\n",
    "      p_ham_given_message *= ham_words_prob[word]\n",
    "\n",
    "    if word in spam_words_prob: \n",
    "      p_spam_given_message *= spam_words_prob[word]\n",
    "\n",
    "    \n",
    "  if p_ham_given_message > p_spam_given_message: \n",
    "      return 'ham'\n",
    "  elif p_spam_given_message > p_ham_given_message: \n",
    "      return 'spam'\n",
    "  else: \n",
    "      return 'hcr'\n",
    "#hcr stands for human classification required"
   ]
  },
  {
   "cell_type": "code",
   "execution_count": 63,
   "metadata": {
    "colab": {
     "base_uri": "https://localhost:8080/",
     "height": 202
    },
    "colab_type": "code",
    "id": "Kg_-0CPCn4zj",
    "outputId": "20234afb-9503-4538-a04c-2b853bd5e427"
   },
   "outputs": [
    {
     "data": {
      "text/html": [
       "<div>\n",
       "<style scoped>\n",
       "    .dataframe tbody tr th:only-of-type {\n",
       "        vertical-align: middle;\n",
       "    }\n",
       "\n",
       "    .dataframe tbody tr th {\n",
       "        vertical-align: top;\n",
       "    }\n",
       "\n",
       "    .dataframe thead th {\n",
       "        text-align: right;\n",
       "    }\n",
       "</style>\n",
       "<table border=\"1\" class=\"dataframe\">\n",
       "  <thead>\n",
       "    <tr style=\"text-align: right;\">\n",
       "      <th></th>\n",
       "      <th>Label</th>\n",
       "      <th>SMS</th>\n",
       "    </tr>\n",
       "  </thead>\n",
       "  <tbody>\n",
       "    <tr>\n",
       "      <th>0</th>\n",
       "      <td>ham</td>\n",
       "      <td>Later i guess. I needa do mcat study too.</td>\n",
       "    </tr>\n",
       "    <tr>\n",
       "      <th>1</th>\n",
       "      <td>ham</td>\n",
       "      <td>But i haf enuff space got like 4 mb...</td>\n",
       "    </tr>\n",
       "    <tr>\n",
       "      <th>2</th>\n",
       "      <td>spam</td>\n",
       "      <td>Had your mobile 10 mths? Update to latest Oran...</td>\n",
       "    </tr>\n",
       "    <tr>\n",
       "      <th>3</th>\n",
       "      <td>ham</td>\n",
       "      <td>All sounds good. Fingers . Makes it difficult ...</td>\n",
       "    </tr>\n",
       "    <tr>\n",
       "      <th>4</th>\n",
       "      <td>ham</td>\n",
       "      <td>All done, all handed in. Don't know if mega sh...</td>\n",
       "    </tr>\n",
       "  </tbody>\n",
       "</table>\n",
       "</div>"
      ],
      "text/plain": [
       "  Label                                                SMS\n",
       "0   ham          Later i guess. I needa do mcat study too.\n",
       "1   ham             But i haf enuff space got like 4 mb...\n",
       "2  spam  Had your mobile 10 mths? Update to latest Oran...\n",
       "3   ham  All sounds good. Fingers . Makes it difficult ...\n",
       "4   ham  All done, all handed in. Don't know if mega sh..."
      ]
     },
     "execution_count": 63,
     "metadata": {},
     "output_type": "execute_result"
    }
   ],
   "source": [
    "testing_sms_dataset.head()"
   ]
  },
  {
   "cell_type": "code",
   "execution_count": 64,
   "metadata": {
    "colab": {},
    "colab_type": "code",
    "id": "LyHy48p3oYrm"
   },
   "outputs": [],
   "source": [
    "testing_sms_dataset['Generated_Label'] = testing_sms_dataset['SMS'].apply(classify_message)"
   ]
  },
  {
   "cell_type": "code",
   "execution_count": 65,
   "metadata": {
    "colab": {
     "base_uri": "https://localhost:8080/",
     "height": 202
    },
    "colab_type": "code",
    "id": "ysjloAn6oljD",
    "outputId": "2733e066-0df1-45bf-8924-6d8051c44283"
   },
   "outputs": [
    {
     "data": {
      "text/html": [
       "<div>\n",
       "<style scoped>\n",
       "    .dataframe tbody tr th:only-of-type {\n",
       "        vertical-align: middle;\n",
       "    }\n",
       "\n",
       "    .dataframe tbody tr th {\n",
       "        vertical-align: top;\n",
       "    }\n",
       "\n",
       "    .dataframe thead th {\n",
       "        text-align: right;\n",
       "    }\n",
       "</style>\n",
       "<table border=\"1\" class=\"dataframe\">\n",
       "  <thead>\n",
       "    <tr style=\"text-align: right;\">\n",
       "      <th></th>\n",
       "      <th>Label</th>\n",
       "      <th>SMS</th>\n",
       "      <th>Generated_Label</th>\n",
       "    </tr>\n",
       "  </thead>\n",
       "  <tbody>\n",
       "    <tr>\n",
       "      <th>0</th>\n",
       "      <td>ham</td>\n",
       "      <td>Later i guess. I needa do mcat study too.</td>\n",
       "      <td>ham</td>\n",
       "    </tr>\n",
       "    <tr>\n",
       "      <th>1</th>\n",
       "      <td>ham</td>\n",
       "      <td>But i haf enuff space got like 4 mb...</td>\n",
       "      <td>ham</td>\n",
       "    </tr>\n",
       "    <tr>\n",
       "      <th>2</th>\n",
       "      <td>spam</td>\n",
       "      <td>Had your mobile 10 mths? Update to latest Oran...</td>\n",
       "      <td>spam</td>\n",
       "    </tr>\n",
       "    <tr>\n",
       "      <th>3</th>\n",
       "      <td>ham</td>\n",
       "      <td>All sounds good. Fingers . Makes it difficult ...</td>\n",
       "      <td>ham</td>\n",
       "    </tr>\n",
       "    <tr>\n",
       "      <th>4</th>\n",
       "      <td>ham</td>\n",
       "      <td>All done, all handed in. Don't know if mega sh...</td>\n",
       "      <td>ham</td>\n",
       "    </tr>\n",
       "  </tbody>\n",
       "</table>\n",
       "</div>"
      ],
      "text/plain": [
       "  Label                                                SMS Generated_Label\n",
       "0   ham          Later i guess. I needa do mcat study too.             ham\n",
       "1   ham             But i haf enuff space got like 4 mb...             ham\n",
       "2  spam  Had your mobile 10 mths? Update to latest Oran...            spam\n",
       "3   ham  All sounds good. Fingers . Makes it difficult ...             ham\n",
       "4   ham  All done, all handed in. Don't know if mega sh...             ham"
      ]
     },
     "execution_count": 65,
     "metadata": {},
     "output_type": "execute_result"
    }
   ],
   "source": [
    "testing_sms_dataset.head()"
   ]
  },
  {
   "cell_type": "code",
   "execution_count": 66,
   "metadata": {
    "colab": {},
    "colab_type": "code",
    "id": "C8PxJAQKonUk"
   },
   "outputs": [],
   "source": [
    "#let us now test the accuracy of our model. \n",
    " correct_labels = 0\n",
    " total_labels = testing_sms_dataset.shape[0]\n",
    " for x in testing_sms_dataset.itertuples():\n",
    "   if x[1] == x[3]: \n",
    "     correct_labels += 1 \n",
    "\n",
    "\n"
   ]
  },
  {
   "cell_type": "code",
   "execution_count": 67,
   "metadata": {
    "colab": {
     "base_uri": "https://localhost:8080/",
     "height": 35
    },
    "colab_type": "code",
    "id": "flacRiVbpTwC",
    "outputId": "3c6ca2a3-f842-41b1-c577-be059efaedc9"
   },
   "outputs": [
    {
     "name": "stdout",
     "output_type": "stream",
     "text": [
      "The accuracy our filter is : 98.74326750448833\n"
     ]
    }
   ],
   "source": [
    "accuracy = (correct_labels / total_labels) * 100  \n",
    "print(\"The accuracy our filter is :\", accuracy)  "
   ]
  },
  {
   "cell_type": "markdown",
   "metadata": {},
   "source": [
    "**--------------------------------------------------------------------------------------------------------------------------------------------------\n",
    "I appreciate the time you have taken to read this notebook. This is but a learner's attempt to step into the vast and beautiful field that is Data Science. I would highly appreciate any and all feedback on this notebook whether it be my fellow learners, my seniors or industry experts. **"
   ]
  }
 ],
 "metadata": {
  "colab": {
   "collapsed_sections": [],
   "name": "Building an SMS spam filter.ipynb",
   "provenance": []
  },
  "kernelspec": {
   "display_name": "Python 3",
   "name": "python3"
  },
  "language_info": {
   "codemirror_mode": {
    "name": "ipython",
    "version": 3
   },
   "file_extension": ".py",
   "mimetype": "text/x-python",
   "name": "python",
   "nbconvert_exporter": "python",
   "pygments_lexer": "ipython3",
   "version": "3.6.6"
  }
 },
 "nbformat": 4,
 "nbformat_minor": 1
}
